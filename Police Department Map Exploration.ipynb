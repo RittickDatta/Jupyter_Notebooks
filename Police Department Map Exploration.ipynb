{
 "cells": [
  {
   "cell_type": "code",
   "execution_count": 1,
   "metadata": {
    "collapsed": true
   },
   "outputs": [],
   "source": [
    "import pandas as pd\n"
   ]
  },
  {
   "cell_type": "code",
   "execution_count": 2,
   "metadata": {
    "collapsed": true
   },
   "outputs": [],
   "source": [
    "police_dept = pd.read_csv('CSV/Police_Dept_Map.csv')"
   ]
  },
  {
   "cell_type": "code",
   "execution_count": 3,
   "metadata": {
    "collapsed": false
   },
   "outputs": [
    {
     "data": {
      "text/html": [
       "<div>\n",
       "<table border=\"1\" class=\"dataframe\">\n",
       "  <thead>\n",
       "    <tr style=\"text-align: right;\">\n",
       "      <th></th>\n",
       "      <th>﻿IncidntNum</th>\n",
       "      <th>X</th>\n",
       "      <th>Y</th>\n",
       "    </tr>\n",
       "  </thead>\n",
       "  <tbody>\n",
       "    <tr>\n",
       "      <th>count</th>\n",
       "      <td>2.070336e+06</td>\n",
       "      <td>2.070336e+06</td>\n",
       "      <td>2.070336e+06</td>\n",
       "    </tr>\n",
       "    <tr>\n",
       "      <th>mean</th>\n",
       "      <td>9.911023e+07</td>\n",
       "      <td>-1.224228e+02</td>\n",
       "      <td>3.777088e+01</td>\n",
       "    </tr>\n",
       "    <tr>\n",
       "      <th>std</th>\n",
       "      <td>4.355964e+07</td>\n",
       "      <td>3.006191e-02</td>\n",
       "      <td>4.347550e-01</td>\n",
       "    </tr>\n",
       "    <tr>\n",
       "      <th>min</th>\n",
       "      <td>3.979000e+03</td>\n",
       "      <td>-1.225136e+02</td>\n",
       "      <td>3.770788e+01</td>\n",
       "    </tr>\n",
       "    <tr>\n",
       "      <th>25%</th>\n",
       "      <td>6.085319e+07</td>\n",
       "      <td>-1.224332e+02</td>\n",
       "      <td>3.775280e+01</td>\n",
       "    </tr>\n",
       "    <tr>\n",
       "      <th>50%</th>\n",
       "      <td>1.004334e+08</td>\n",
       "      <td>-1.224166e+02</td>\n",
       "      <td>3.777542e+01</td>\n",
       "    </tr>\n",
       "    <tr>\n",
       "      <th>75%</th>\n",
       "      <td>1.362397e+08</td>\n",
       "      <td>-1.224069e+02</td>\n",
       "      <td>3.778445e+01</td>\n",
       "    </tr>\n",
       "    <tr>\n",
       "      <th>max</th>\n",
       "      <td>9.915824e+08</td>\n",
       "      <td>-1.205000e+02</td>\n",
       "      <td>9.000000e+01</td>\n",
       "    </tr>\n",
       "  </tbody>\n",
       "</table>\n",
       "</div>"
      ],
      "text/plain": [
       "        ﻿IncidntNum             X             Y\n",
       "count  2.070336e+06  2.070336e+06  2.070336e+06\n",
       "mean   9.911023e+07 -1.224228e+02  3.777088e+01\n",
       "std    4.355964e+07  3.006191e-02  4.347550e-01\n",
       "min    3.979000e+03 -1.225136e+02  3.770788e+01\n",
       "25%    6.085319e+07 -1.224332e+02  3.775280e+01\n",
       "50%    1.004334e+08 -1.224166e+02  3.777542e+01\n",
       "75%    1.362397e+08 -1.224069e+02  3.778445e+01\n",
       "max    9.915824e+08 -1.205000e+02  9.000000e+01"
      ]
     },
     "execution_count": 3,
     "metadata": {},
     "output_type": "execute_result"
    }
   ],
   "source": [
    "police_dept.describe()"
   ]
  },
  {
   "cell_type": "code",
   "execution_count": 4,
   "metadata": {
    "collapsed": false
   },
   "outputs": [
    {
     "data": {
      "text/plain": [
       "Index(['﻿IncidntNum', 'Category', 'Descript', 'DayOfWeek', 'Date', 'Time',\n",
       "       'PdDistrict', 'Resolution', 'Address', 'X', 'Y', 'Location'],\n",
       "      dtype='object')"
      ]
     },
     "execution_count": 4,
     "metadata": {},
     "output_type": "execute_result"
    }
   ],
   "source": [
    "police_dept.columns"
   ]
  },
  {
   "cell_type": "code",
   "execution_count": 5,
   "metadata": {
    "collapsed": false
   },
   "outputs": [
    {
     "data": {
      "text/html": [
       "<div>\n",
       "<table border=\"1\" class=\"dataframe\">\n",
       "  <thead>\n",
       "    <tr style=\"text-align: right;\">\n",
       "      <th></th>\n",
       "      <th>Date</th>\n",
       "      <th>Time</th>\n",
       "    </tr>\n",
       "  </thead>\n",
       "  <tbody>\n",
       "    <tr>\n",
       "      <th>0</th>\n",
       "      <td>01/19/2015 12:00:00 AM</td>\n",
       "      <td>14:00</td>\n",
       "    </tr>\n",
       "    <tr>\n",
       "      <th>1</th>\n",
       "      <td>02/01/2015 12:00:00 AM</td>\n",
       "      <td>15:45</td>\n",
       "    </tr>\n",
       "    <tr>\n",
       "      <th>2</th>\n",
       "      <td>02/01/2015 12:00:00 AM</td>\n",
       "      <td>15:45</td>\n",
       "    </tr>\n",
       "    <tr>\n",
       "      <th>3</th>\n",
       "      <td>02/01/2015 12:00:00 AM</td>\n",
       "      <td>15:45</td>\n",
       "    </tr>\n",
       "    <tr>\n",
       "      <th>4</th>\n",
       "      <td>01/27/2015 12:00:00 AM</td>\n",
       "      <td>19:00</td>\n",
       "    </tr>\n",
       "    <tr>\n",
       "      <th>5</th>\n",
       "      <td>02/01/2015 12:00:00 AM</td>\n",
       "      <td>16:21</td>\n",
       "    </tr>\n",
       "    <tr>\n",
       "      <th>6</th>\n",
       "      <td>01/31/2015 12:00:00 AM</td>\n",
       "      <td>21:00</td>\n",
       "    </tr>\n",
       "    <tr>\n",
       "      <th>7</th>\n",
       "      <td>01/31/2015 12:00:00 AM</td>\n",
       "      <td>21:00</td>\n",
       "    </tr>\n",
       "    <tr>\n",
       "      <th>8</th>\n",
       "      <td>01/31/2015 12:00:00 AM</td>\n",
       "      <td>16:09</td>\n",
       "    </tr>\n",
       "    <tr>\n",
       "      <th>9</th>\n",
       "      <td>01/31/2015 12:00:00 AM</td>\n",
       "      <td>17:00</td>\n",
       "    </tr>\n",
       "  </tbody>\n",
       "</table>\n",
       "</div>"
      ],
      "text/plain": [
       "                     Date   Time\n",
       "0  01/19/2015 12:00:00 AM  14:00\n",
       "1  02/01/2015 12:00:00 AM  15:45\n",
       "2  02/01/2015 12:00:00 AM  15:45\n",
       "3  02/01/2015 12:00:00 AM  15:45\n",
       "4  01/27/2015 12:00:00 AM  19:00\n",
       "5  02/01/2015 12:00:00 AM  16:21\n",
       "6  01/31/2015 12:00:00 AM  21:00\n",
       "7  01/31/2015 12:00:00 AM  21:00\n",
       "8  01/31/2015 12:00:00 AM  16:09\n",
       "9  01/31/2015 12:00:00 AM  17:00"
      ]
     },
     "execution_count": 5,
     "metadata": {},
     "output_type": "execute_result"
    }
   ],
   "source": [
    "police_dept[['Date','Time']].head(10)"
   ]
  },
  {
   "cell_type": "code",
   "execution_count": 6,
   "metadata": {
    "collapsed": false
   },
   "outputs": [
    {
     "data": {
      "text/html": [
       "<div>\n",
       "<table border=\"1\" class=\"dataframe\">\n",
       "  <thead>\n",
       "    <tr style=\"text-align: right;\">\n",
       "      <th></th>\n",
       "      <th>Category</th>\n",
       "      <th>Descript</th>\n",
       "    </tr>\n",
       "  </thead>\n",
       "  <tbody>\n",
       "    <tr>\n",
       "      <th>0</th>\n",
       "      <td>NON-CRIMINAL</td>\n",
       "      <td>LOST PROPERTY</td>\n",
       "    </tr>\n",
       "    <tr>\n",
       "      <th>1</th>\n",
       "      <td>ROBBERY</td>\n",
       "      <td>ROBBERY, BODILY FORCE</td>\n",
       "    </tr>\n",
       "    <tr>\n",
       "      <th>2</th>\n",
       "      <td>ASSAULT</td>\n",
       "      <td>AGGRAVATED ASSAULT WITH BODILY FORCE</td>\n",
       "    </tr>\n",
       "    <tr>\n",
       "      <th>3</th>\n",
       "      <td>SECONDARY CODES</td>\n",
       "      <td>DOMESTIC VIOLENCE</td>\n",
       "    </tr>\n",
       "    <tr>\n",
       "      <th>4</th>\n",
       "      <td>VANDALISM</td>\n",
       "      <td>MALICIOUS MISCHIEF, VANDALISM OF VEHICLES</td>\n",
       "    </tr>\n",
       "    <tr>\n",
       "      <th>5</th>\n",
       "      <td>NON-CRIMINAL</td>\n",
       "      <td>AIDED CASE -PROPERTY FOR DESTRUCTION</td>\n",
       "    </tr>\n",
       "    <tr>\n",
       "      <th>6</th>\n",
       "      <td>SECONDARY CODES</td>\n",
       "      <td>DOMESTIC VIOLENCE</td>\n",
       "    </tr>\n",
       "    <tr>\n",
       "      <th>7</th>\n",
       "      <td>VANDALISM</td>\n",
       "      <td>MALICIOUS MISCHIEF, VANDALISM</td>\n",
       "    </tr>\n",
       "    <tr>\n",
       "      <th>8</th>\n",
       "      <td>BURGLARY</td>\n",
       "      <td>BURGLARY OF STORE, UNLAWFUL ENTRY</td>\n",
       "    </tr>\n",
       "    <tr>\n",
       "      <th>9</th>\n",
       "      <td>LARCENY/THEFT</td>\n",
       "      <td>PETTY THEFT SHOPLIFTING</td>\n",
       "    </tr>\n",
       "  </tbody>\n",
       "</table>\n",
       "</div>"
      ],
      "text/plain": [
       "          Category                                   Descript\n",
       "0     NON-CRIMINAL                              LOST PROPERTY\n",
       "1          ROBBERY                      ROBBERY, BODILY FORCE\n",
       "2          ASSAULT       AGGRAVATED ASSAULT WITH BODILY FORCE\n",
       "3  SECONDARY CODES                          DOMESTIC VIOLENCE\n",
       "4        VANDALISM  MALICIOUS MISCHIEF, VANDALISM OF VEHICLES\n",
       "5     NON-CRIMINAL       AIDED CASE -PROPERTY FOR DESTRUCTION\n",
       "6  SECONDARY CODES                          DOMESTIC VIOLENCE\n",
       "7        VANDALISM              MALICIOUS MISCHIEF, VANDALISM\n",
       "8         BURGLARY          BURGLARY OF STORE, UNLAWFUL ENTRY\n",
       "9    LARCENY/THEFT                    PETTY THEFT SHOPLIFTING"
      ]
     },
     "execution_count": 6,
     "metadata": {},
     "output_type": "execute_result"
    }
   ],
   "source": [
    "police_dept[['Category', 'Descript']].head(10)"
   ]
  },
  {
   "cell_type": "code",
   "execution_count": 7,
   "metadata": {
    "collapsed": false
   },
   "outputs": [
    {
     "data": {
      "text/plain": [
       "LARCENY/THEFT                  435587\n",
       "OTHER OFFENSES                 292639\n",
       "NON-CRIMINAL                   221953\n",
       "ASSAULT                        181408\n",
       "VEHICLE THEFT                  121716\n",
       "DRUG/NARCOTIC                  116263\n",
       "VANDALISM                      107110\n",
       "WARRANTS                        96469\n",
       "BURGLARY                        85868\n",
       "SUSPICIOUS OCC                  75069\n",
       "MISSING PERSON                  60732\n",
       "ROBBERY                         52700\n",
       "FRAUD                           39030\n",
       "SECONDARY CODES                 23941\n",
       "FORGERY/COUNTERFEITING          22528\n",
       "WEAPON LAWS                     20560\n",
       "TRESPASS                        18007\n",
       "PROSTITUTION                    16316\n",
       "STOLEN PROPERTY                 11138\n",
       "SEX OFFENSES, FORCIBLE          10722\n",
       "DISORDERLY CONDUCT               9733\n",
       "DRUNKENNESS                      9534\n",
       "RECOVERED VEHICLE                8263\n",
       "DRIVING UNDER THE INFLUENCE      5415\n",
       "KIDNAPPING                       5140\n",
       "RUNAWAY                          4155\n",
       "LIQUOR LAWS                      4026\n",
       "ARSON                            3622\n",
       "EMBEZZLEMENT                     2807\n",
       "LOITERING                        2394\n",
       "SUICIDE                          1217\n",
       "FAMILY OFFENSES                  1143\n",
       "BAD CHECKS                        904\n",
       "BRIBERY                           754\n",
       "EXTORTION                         686\n",
       "SEX OFFENSES, NON FORCIBLE        393\n",
       "GAMBLING                          329\n",
       "PORNOGRAPHY/OBSCENE MAT            52\n",
       "TREA                               13\n",
       "Name: Category, dtype: int64"
      ]
     },
     "execution_count": 7,
     "metadata": {},
     "output_type": "execute_result"
    }
   ],
   "source": [
    "police_dept['Category'].value_counts()"
   ]
  },
  {
   "cell_type": "code",
   "execution_count": 8,
   "metadata": {
    "collapsed": false
   },
   "outputs": [],
   "source": [
    "crime_cat_time = police_dept[['Category','Time']]"
   ]
  },
  {
   "cell_type": "code",
   "execution_count": 9,
   "metadata": {
    "collapsed": false
   },
   "outputs": [
    {
     "name": "stderr",
     "output_type": "stream",
     "text": [
      "C:\\Users\\Rittick\\Anaconda3\\lib\\site-packages\\ipykernel\\__main__.py:1: FutureWarning: sort(columns=....) is deprecated, use sort_values(by=.....)\n",
      "  if __name__ == '__main__':\n"
     ]
    },
    {
     "data": {
      "text/html": [
       "<div>\n",
       "<table border=\"1\" class=\"dataframe\">\n",
       "  <thead>\n",
       "    <tr style=\"text-align: right;\">\n",
       "      <th></th>\n",
       "      <th>Category</th>\n",
       "      <th>Time</th>\n",
       "    </tr>\n",
       "  </thead>\n",
       "  <tbody>\n",
       "    <tr>\n",
       "      <th>154065</th>\n",
       "      <td>OTHER OFFENSES</td>\n",
       "      <td>23:59</td>\n",
       "    </tr>\n",
       "    <tr>\n",
       "      <th>1931546</th>\n",
       "      <td>VEHICLE THEFT</td>\n",
       "      <td>23:59</td>\n",
       "    </tr>\n",
       "    <tr>\n",
       "      <th>18103</th>\n",
       "      <td>NON-CRIMINAL</td>\n",
       "      <td>23:59</td>\n",
       "    </tr>\n",
       "    <tr>\n",
       "      <th>1498561</th>\n",
       "      <td>ASSAULT</td>\n",
       "      <td>23:59</td>\n",
       "    </tr>\n",
       "    <tr>\n",
       "      <th>282729</th>\n",
       "      <td>LARCENY/THEFT</td>\n",
       "      <td>23:59</td>\n",
       "    </tr>\n",
       "    <tr>\n",
       "      <th>1763944</th>\n",
       "      <td>LARCENY/THEFT</td>\n",
       "      <td>23:59</td>\n",
       "    </tr>\n",
       "    <tr>\n",
       "      <th>406684</th>\n",
       "      <td>LARCENY/THEFT</td>\n",
       "      <td>23:59</td>\n",
       "    </tr>\n",
       "    <tr>\n",
       "      <th>406728</th>\n",
       "      <td>NON-CRIMINAL</td>\n",
       "      <td>23:59</td>\n",
       "    </tr>\n",
       "    <tr>\n",
       "      <th>1626200</th>\n",
       "      <td>LARCENY/THEFT</td>\n",
       "      <td>23:59</td>\n",
       "    </tr>\n",
       "    <tr>\n",
       "      <th>1536890</th>\n",
       "      <td>LARCENY/THEFT</td>\n",
       "      <td>23:59</td>\n",
       "    </tr>\n",
       "    <tr>\n",
       "      <th>313258</th>\n",
       "      <td>MISSING PERSON</td>\n",
       "      <td>23:59</td>\n",
       "    </tr>\n",
       "    <tr>\n",
       "      <th>1231254</th>\n",
       "      <td>VEHICLE THEFT</td>\n",
       "      <td>23:59</td>\n",
       "    </tr>\n",
       "    <tr>\n",
       "      <th>1208062</th>\n",
       "      <td>DRUG/NARCOTIC</td>\n",
       "      <td>23:59</td>\n",
       "    </tr>\n",
       "    <tr>\n",
       "      <th>198420</th>\n",
       "      <td>NON-CRIMINAL</td>\n",
       "      <td>23:59</td>\n",
       "    </tr>\n",
       "    <tr>\n",
       "      <th>1036390</th>\n",
       "      <td>SEX OFFENSES, FORCIBLE</td>\n",
       "      <td>23:59</td>\n",
       "    </tr>\n",
       "    <tr>\n",
       "      <th>614324</th>\n",
       "      <td>SEX OFFENSES, FORCIBLE</td>\n",
       "      <td>23:59</td>\n",
       "    </tr>\n",
       "    <tr>\n",
       "      <th>1080221</th>\n",
       "      <td>WARRANTS</td>\n",
       "      <td>23:59</td>\n",
       "    </tr>\n",
       "    <tr>\n",
       "      <th>1376682</th>\n",
       "      <td>DRUG/NARCOTIC</td>\n",
       "      <td>23:59</td>\n",
       "    </tr>\n",
       "    <tr>\n",
       "      <th>817981</th>\n",
       "      <td>NON-CRIMINAL</td>\n",
       "      <td>23:59</td>\n",
       "    </tr>\n",
       "    <tr>\n",
       "      <th>1687521</th>\n",
       "      <td>OTHER OFFENSES</td>\n",
       "      <td>23:59</td>\n",
       "    </tr>\n",
       "    <tr>\n",
       "      <th>313022</th>\n",
       "      <td>VEHICLE THEFT</td>\n",
       "      <td>23:59</td>\n",
       "    </tr>\n",
       "    <tr>\n",
       "      <th>1926584</th>\n",
       "      <td>NON-CRIMINAL</td>\n",
       "      <td>23:59</td>\n",
       "    </tr>\n",
       "    <tr>\n",
       "      <th>1969426</th>\n",
       "      <td>ROBBERY</td>\n",
       "      <td>23:59</td>\n",
       "    </tr>\n",
       "    <tr>\n",
       "      <th>213579</th>\n",
       "      <td>ROBBERY</td>\n",
       "      <td>23:59</td>\n",
       "    </tr>\n",
       "    <tr>\n",
       "      <th>118785</th>\n",
       "      <td>BURGLARY</td>\n",
       "      <td>23:59</td>\n",
       "    </tr>\n",
       "    <tr>\n",
       "      <th>1644749</th>\n",
       "      <td>OTHER OFFENSES</td>\n",
       "      <td>23:59</td>\n",
       "    </tr>\n",
       "    <tr>\n",
       "      <th>1485139</th>\n",
       "      <td>OTHER OFFENSES</td>\n",
       "      <td>23:59</td>\n",
       "    </tr>\n",
       "    <tr>\n",
       "      <th>697585</th>\n",
       "      <td>VEHICLE THEFT</td>\n",
       "      <td>23:59</td>\n",
       "    </tr>\n",
       "    <tr>\n",
       "      <th>1408407</th>\n",
       "      <td>ASSAULT</td>\n",
       "      <td>23:59</td>\n",
       "    </tr>\n",
       "    <tr>\n",
       "      <th>44277</th>\n",
       "      <td>OTHER OFFENSES</td>\n",
       "      <td>23:59</td>\n",
       "    </tr>\n",
       "    <tr>\n",
       "      <th>...</th>\n",
       "      <td>...</td>\n",
       "      <td>...</td>\n",
       "    </tr>\n",
       "    <tr>\n",
       "      <th>163597</th>\n",
       "      <td>FAMILY OFFENSES</td>\n",
       "      <td>00:01</td>\n",
       "    </tr>\n",
       "    <tr>\n",
       "      <th>222851</th>\n",
       "      <td>LOITERING</td>\n",
       "      <td>00:01</td>\n",
       "    </tr>\n",
       "    <tr>\n",
       "      <th>1677728</th>\n",
       "      <td>BRIBERY</td>\n",
       "      <td>00:01</td>\n",
       "    </tr>\n",
       "    <tr>\n",
       "      <th>128037</th>\n",
       "      <td>LIQUOR LAWS</td>\n",
       "      <td>00:01</td>\n",
       "    </tr>\n",
       "    <tr>\n",
       "      <th>201784</th>\n",
       "      <td>RECOVERED VEHICLE</td>\n",
       "      <td>00:01</td>\n",
       "    </tr>\n",
       "    <tr>\n",
       "      <th>1731042</th>\n",
       "      <td>DRUNKENNESS</td>\n",
       "      <td>00:01</td>\n",
       "    </tr>\n",
       "    <tr>\n",
       "      <th>2053027</th>\n",
       "      <td>ARSON</td>\n",
       "      <td>00:01</td>\n",
       "    </tr>\n",
       "    <tr>\n",
       "      <th>152901</th>\n",
       "      <td>RUNAWAY</td>\n",
       "      <td>00:01</td>\n",
       "    </tr>\n",
       "    <tr>\n",
       "      <th>1639936</th>\n",
       "      <td>RUNAWAY</td>\n",
       "      <td>00:01</td>\n",
       "    </tr>\n",
       "    <tr>\n",
       "      <th>1620632</th>\n",
       "      <td>GAMBLING</td>\n",
       "      <td>00:01</td>\n",
       "    </tr>\n",
       "    <tr>\n",
       "      <th>1727330</th>\n",
       "      <td>GAMBLING</td>\n",
       "      <td>00:01</td>\n",
       "    </tr>\n",
       "    <tr>\n",
       "      <th>195735</th>\n",
       "      <td>RECOVERED VEHICLE</td>\n",
       "      <td>00:01</td>\n",
       "    </tr>\n",
       "    <tr>\n",
       "      <th>1651108</th>\n",
       "      <td>LIQUOR LAWS</td>\n",
       "      <td>00:01</td>\n",
       "    </tr>\n",
       "    <tr>\n",
       "      <th>1684513</th>\n",
       "      <td>GAMBLING</td>\n",
       "      <td>00:01</td>\n",
       "    </tr>\n",
       "    <tr>\n",
       "      <th>10919</th>\n",
       "      <td>RECOVERED VEHICLE</td>\n",
       "      <td>00:01</td>\n",
       "    </tr>\n",
       "    <tr>\n",
       "      <th>1650492</th>\n",
       "      <td>LOITERING</td>\n",
       "      <td>00:01</td>\n",
       "    </tr>\n",
       "    <tr>\n",
       "      <th>755707</th>\n",
       "      <td>GAMBLING</td>\n",
       "      <td>00:01</td>\n",
       "    </tr>\n",
       "    <tr>\n",
       "      <th>747690</th>\n",
       "      <td>GAMBLING</td>\n",
       "      <td>00:01</td>\n",
       "    </tr>\n",
       "    <tr>\n",
       "      <th>1197432</th>\n",
       "      <td>LIQUOR LAWS</td>\n",
       "      <td>00:01</td>\n",
       "    </tr>\n",
       "    <tr>\n",
       "      <th>1222200</th>\n",
       "      <td>LOITERING</td>\n",
       "      <td>00:01</td>\n",
       "    </tr>\n",
       "    <tr>\n",
       "      <th>736153</th>\n",
       "      <td>RECOVERED VEHICLE</td>\n",
       "      <td>00:01</td>\n",
       "    </tr>\n",
       "    <tr>\n",
       "      <th>789151</th>\n",
       "      <td>LIQUOR LAWS</td>\n",
       "      <td>00:01</td>\n",
       "    </tr>\n",
       "    <tr>\n",
       "      <th>1298184</th>\n",
       "      <td>LOITERING</td>\n",
       "      <td>00:01</td>\n",
       "    </tr>\n",
       "    <tr>\n",
       "      <th>622135</th>\n",
       "      <td>LOITERING</td>\n",
       "      <td>00:01</td>\n",
       "    </tr>\n",
       "    <tr>\n",
       "      <th>703171</th>\n",
       "      <td>SUICIDE</td>\n",
       "      <td>00:01</td>\n",
       "    </tr>\n",
       "    <tr>\n",
       "      <th>925020</th>\n",
       "      <td>SUICIDE</td>\n",
       "      <td>00:01</td>\n",
       "    </tr>\n",
       "    <tr>\n",
       "      <th>1887235</th>\n",
       "      <td>PORNOGRAPHY/OBSCENE MAT</td>\n",
       "      <td>00:01</td>\n",
       "    </tr>\n",
       "    <tr>\n",
       "      <th>1154554</th>\n",
       "      <td>PORNOGRAPHY/OBSCENE MAT</td>\n",
       "      <td>00:01</td>\n",
       "    </tr>\n",
       "    <tr>\n",
       "      <th>2011319</th>\n",
       "      <td>PORNOGRAPHY/OBSCENE MAT</td>\n",
       "      <td>00:01</td>\n",
       "    </tr>\n",
       "    <tr>\n",
       "      <th>1958735</th>\n",
       "      <td>PORNOGRAPHY/OBSCENE MAT</td>\n",
       "      <td>00:01</td>\n",
       "    </tr>\n",
       "  </tbody>\n",
       "</table>\n",
       "<p>158238 rows × 2 columns</p>\n",
       "</div>"
      ],
      "text/plain": [
       "                        Category   Time\n",
       "154065            OTHER OFFENSES  23:59\n",
       "1931546            VEHICLE THEFT  23:59\n",
       "18103               NON-CRIMINAL  23:59\n",
       "1498561                  ASSAULT  23:59\n",
       "282729             LARCENY/THEFT  23:59\n",
       "1763944            LARCENY/THEFT  23:59\n",
       "406684             LARCENY/THEFT  23:59\n",
       "406728              NON-CRIMINAL  23:59\n",
       "1626200            LARCENY/THEFT  23:59\n",
       "1536890            LARCENY/THEFT  23:59\n",
       "313258            MISSING PERSON  23:59\n",
       "1231254            VEHICLE THEFT  23:59\n",
       "1208062            DRUG/NARCOTIC  23:59\n",
       "198420              NON-CRIMINAL  23:59\n",
       "1036390   SEX OFFENSES, FORCIBLE  23:59\n",
       "614324    SEX OFFENSES, FORCIBLE  23:59\n",
       "1080221                 WARRANTS  23:59\n",
       "1376682            DRUG/NARCOTIC  23:59\n",
       "817981              NON-CRIMINAL  23:59\n",
       "1687521           OTHER OFFENSES  23:59\n",
       "313022             VEHICLE THEFT  23:59\n",
       "1926584             NON-CRIMINAL  23:59\n",
       "1969426                  ROBBERY  23:59\n",
       "213579                   ROBBERY  23:59\n",
       "118785                  BURGLARY  23:59\n",
       "1644749           OTHER OFFENSES  23:59\n",
       "1485139           OTHER OFFENSES  23:59\n",
       "697585             VEHICLE THEFT  23:59\n",
       "1408407                  ASSAULT  23:59\n",
       "44277             OTHER OFFENSES  23:59\n",
       "...                          ...    ...\n",
       "163597           FAMILY OFFENSES  00:01\n",
       "222851                 LOITERING  00:01\n",
       "1677728                  BRIBERY  00:01\n",
       "128037               LIQUOR LAWS  00:01\n",
       "201784         RECOVERED VEHICLE  00:01\n",
       "1731042              DRUNKENNESS  00:01\n",
       "2053027                    ARSON  00:01\n",
       "152901                   RUNAWAY  00:01\n",
       "1639936                  RUNAWAY  00:01\n",
       "1620632                 GAMBLING  00:01\n",
       "1727330                 GAMBLING  00:01\n",
       "195735         RECOVERED VEHICLE  00:01\n",
       "1651108              LIQUOR LAWS  00:01\n",
       "1684513                 GAMBLING  00:01\n",
       "10919          RECOVERED VEHICLE  00:01\n",
       "1650492                LOITERING  00:01\n",
       "755707                  GAMBLING  00:01\n",
       "747690                  GAMBLING  00:01\n",
       "1197432              LIQUOR LAWS  00:01\n",
       "1222200                LOITERING  00:01\n",
       "736153         RECOVERED VEHICLE  00:01\n",
       "789151               LIQUOR LAWS  00:01\n",
       "1298184                LOITERING  00:01\n",
       "622135                 LOITERING  00:01\n",
       "703171                   SUICIDE  00:01\n",
       "925020                   SUICIDE  00:01\n",
       "1887235  PORNOGRAPHY/OBSCENE MAT  00:01\n",
       "1154554  PORNOGRAPHY/OBSCENE MAT  00:01\n",
       "2011319  PORNOGRAPHY/OBSCENE MAT  00:01\n",
       "1958735  PORNOGRAPHY/OBSCENE MAT  00:01\n",
       "\n",
       "[158238 rows x 2 columns]"
      ]
     },
     "execution_count": 9,
     "metadata": {},
     "output_type": "execute_result"
    }
   ],
   "source": [
    "crime_cat_time.sort(['Time'], ascending=False).groupby(['Time', 'Category']).head()"
   ]
  },
  {
   "cell_type": "code",
   "execution_count": 10,
   "metadata": {
    "collapsed": false
   },
   "outputs": [
    {
     "name": "stderr",
     "output_type": "stream",
     "text": [
      "C:\\Users\\Rittick\\Anaconda3\\lib\\site-packages\\ipykernel\\__main__.py:1: FutureWarning: sort(columns=....) is deprecated, use sort_values(by=.....)\n",
      "  if __name__ == '__main__':\n"
     ]
    },
    {
     "data": {
      "text/plain": [
       "pandas.core.frame.DataFrame"
      ]
     },
     "execution_count": 10,
     "metadata": {},
     "output_type": "execute_result"
    }
   ],
   "source": [
    "type(crime_cat_time.sort(['Time'], ascending=False).head(20))\n"
   ]
  },
  {
   "cell_type": "code",
   "execution_count": 27,
   "metadata": {
    "collapsed": false
   },
   "outputs": [
    {
     "name": "stderr",
     "output_type": "stream",
     "text": [
      "C:\\Users\\Rittick\\Anaconda3\\lib\\site-packages\\ipykernel\\__main__.py:1: FutureWarning: sort(columns=....) is deprecated, use sort_values(by=.....)\n",
      "  if __name__ == '__main__':\n"
     ]
    }
   ],
   "source": [
    "time_of_crime_all = crime_cat_time.sort(['Time'], ascending=False)['Time'].unique()"
   ]
  },
  {
   "cell_type": "code",
   "execution_count": 28,
   "metadata": {
    "collapsed": false
   },
   "outputs": [
    {
     "data": {
      "text/plain": [
       "{}"
      ]
     },
     "execution_count": 28,
     "metadata": {},
     "output_type": "execute_result"
    }
   ],
   "source": [
    "time_of_crime"
   ]
  },
  {
   "cell_type": "code",
   "execution_count": 30,
   "metadata": {
    "collapsed": false
   },
   "outputs": [
    {
     "name": "stdout",
     "output_type": "stream",
     "text": [
      "1439\n"
     ]
    }
   ],
   "source": [
    "unique_time_list = []\n",
    "for time in time_of_crime_all:\n",
    "    if time not in unique_time_list:\n",
    "        unique_time_list.append(time)\n",
    "print(len(unique_time_list))"
   ]
  },
  {
   "cell_type": "code",
   "execution_count": 31,
   "metadata": {
    "collapsed": false
   },
   "outputs": [
    {
     "data": {
      "text/plain": [
       "['23:59', '23:58', '23:57', '23:56', '23:55']"
      ]
     },
     "execution_count": 31,
     "metadata": {},
     "output_type": "execute_result"
    }
   ],
   "source": [
    "unique_time_list[0:5]"
   ]
  },
  {
   "cell_type": "code",
   "execution_count": 32,
   "metadata": {
    "collapsed": true
   },
   "outputs": [],
   "source": [
    "time_of_crime = {}"
   ]
  },
  {
   "cell_type": "code",
   "execution_count": 33,
   "metadata": {
    "collapsed": false
   },
   "outputs": [
    {
     "name": "stdout",
     "output_type": "stream",
     "text": [
      "1439\n"
     ]
    }
   ],
   "source": [
    "hour_list = []\n",
    "for time in unique_time_list:\n",
    "    hour_list.append(time.split(':')[0])\n",
    "print(len(hour_list))"
   ]
  },
  {
   "cell_type": "code",
   "execution_count": 34,
   "metadata": {
    "collapsed": false
   },
   "outputs": [
    {
     "data": {
      "text/plain": [
       "['23', '23', '23', '23', '23']"
      ]
     },
     "execution_count": 34,
     "metadata": {},
     "output_type": "execute_result"
    }
   ],
   "source": [
    "hour_list[:5]"
   ]
  },
  {
   "cell_type": "code",
   "execution_count": 35,
   "metadata": {
    "collapsed": false
   },
   "outputs": [
    {
     "name": "stdout",
     "output_type": "stream",
     "text": [
      "{'14', '18', '05', '07', '12', '19', '06', '20', '13', '08', '21', '01', '11', '15', '03', '16', '23', '22', '04', '09', '00', '10', '17', '02'}\n"
     ]
    }
   ],
   "source": [
    "print(set(hour_list))"
   ]
  },
  {
   "cell_type": "code",
   "execution_count": 36,
   "metadata": {
    "collapsed": true
   },
   "outputs": [],
   "source": [
    "hour_set = set(hour_list)"
   ]
  },
  {
   "cell_type": "code",
   "execution_count": 37,
   "metadata": {
    "collapsed": false
   },
   "outputs": [
    {
     "data": {
      "text/plain": [
       "['00',\n",
       " '01',\n",
       " '02',\n",
       " '03',\n",
       " '04',\n",
       " '05',\n",
       " '06',\n",
       " '07',\n",
       " '08',\n",
       " '09',\n",
       " '10',\n",
       " '11',\n",
       " '12',\n",
       " '13',\n",
       " '14',\n",
       " '15',\n",
       " '16',\n",
       " '17',\n",
       " '18',\n",
       " '19',\n",
       " '20',\n",
       " '21',\n",
       " '22',\n",
       " '23']"
      ]
     },
     "execution_count": 37,
     "metadata": {},
     "output_type": "execute_result"
    }
   ],
   "source": [
    "sorted(hour_set)"
   ]
  },
  {
   "cell_type": "markdown",
   "metadata": {},
   "source": [
    "In each hour of the day, there is a crime."
   ]
  },
  {
   "cell_type": "code",
   "execution_count": 38,
   "metadata": {
    "collapsed": true
   },
   "outputs": [],
   "source": [
    "Crime_at_hour = {}"
   ]
  },
  {
   "cell_type": "code",
   "execution_count": 65,
   "metadata": {
    "collapsed": true
   },
   "outputs": [],
   "source": [
    "for hour in hour_set:\n",
    "    Crime_at_hour[hour] = []"
   ]
  },
  {
   "cell_type": "code",
   "execution_count": 66,
   "metadata": {
    "collapsed": false
   },
   "outputs": [
    {
     "data": {
      "text/plain": [
       "{'00': [],\n",
       " '01': [],\n",
       " '02': [],\n",
       " '03': [],\n",
       " '04': [],\n",
       " '05': [],\n",
       " '06': [],\n",
       " '07': [],\n",
       " '08': [],\n",
       " '09': [],\n",
       " '10': [],\n",
       " '11': [],\n",
       " '12': [],\n",
       " '13': [],\n",
       " '14': [],\n",
       " '15': [],\n",
       " '16': [],\n",
       " '17': [],\n",
       " '18': [],\n",
       " '19': [],\n",
       " '20': [],\n",
       " '21': [],\n",
       " '22': [],\n",
       " '23': []}"
      ]
     },
     "execution_count": 66,
     "metadata": {},
     "output_type": "execute_result"
    }
   ],
   "source": [
    "Crime_at_hour"
   ]
  },
  {
   "cell_type": "code",
   "execution_count": 67,
   "metadata": {
    "collapsed": true
   },
   "outputs": [],
   "source": [
    "for time in time_of_crime_all:\n",
    "    hour = time.split(':')[0]\n",
    "    minute = time.split(':')[1]\n",
    "    if minute not in list(Crime_at_hour[hour]):\n",
    "        Crime_at_hour[hour].append(minute)"
   ]
  },
  {
   "cell_type": "markdown",
   "metadata": {},
   "source": [
    "CHECK FOLLOWING AND UPDATE!"
   ]
  },
  {
   "cell_type": "code",
   "execution_count": 68,
   "metadata": {
    "collapsed": false
   },
   "outputs": [
    {
     "name": "stdout",
     "output_type": "stream",
     "text": [
      "20 : 60\n",
      "14 : 60\n",
      "01 : 60\n",
      "21 : 60\n",
      "18 : 60\n",
      "11 : 60\n",
      "15 : 60\n",
      "03 : 60\n",
      "16 : 60\n",
      "23 : 60\n",
      "05 : 60\n",
      "22 : 60\n",
      "04 : 60\n",
      "09 : 60\n",
      "08 : 60\n",
      "00 : 59\n",
      "07 : 60\n",
      "12 : 60\n",
      "10 : 60\n",
      "17 : 60\n",
      "19 : 60\n",
      "06 : 60\n",
      "02 : 60\n",
      "13 : 60\n"
     ]
    }
   ],
   "source": [
    "for key, value in Crime_at_hour.items():\n",
    "    print(key +' : '+str(len(value)))"
   ]
  },
  {
   "cell_type": "code",
   "execution_count": 69,
   "metadata": {
    "collapsed": false
   },
   "outputs": [
    {
     "data": {
      "text/plain": [
       "['59',\n",
       " '58',\n",
       " '57',\n",
       " '56',\n",
       " '55',\n",
       " '54',\n",
       " '53',\n",
       " '52',\n",
       " '51',\n",
       " '50',\n",
       " '49',\n",
       " '48',\n",
       " '47',\n",
       " '46',\n",
       " '45',\n",
       " '44',\n",
       " '43',\n",
       " '42',\n",
       " '41',\n",
       " '40',\n",
       " '39',\n",
       " '38',\n",
       " '37',\n",
       " '36',\n",
       " '35',\n",
       " '34',\n",
       " '33',\n",
       " '32',\n",
       " '31',\n",
       " '30',\n",
       " '29',\n",
       " '28',\n",
       " '27',\n",
       " '26',\n",
       " '25',\n",
       " '24',\n",
       " '23',\n",
       " '22',\n",
       " '21',\n",
       " '20',\n",
       " '19',\n",
       " '18',\n",
       " '17',\n",
       " '16',\n",
       " '15',\n",
       " '14',\n",
       " '13',\n",
       " '12',\n",
       " '11',\n",
       " '10',\n",
       " '09',\n",
       " '08',\n",
       " '07',\n",
       " '06',\n",
       " '05',\n",
       " '04',\n",
       " '03',\n",
       " '02',\n",
       " '01']"
      ]
     },
     "execution_count": 69,
     "metadata": {},
     "output_type": "execute_result"
    }
   ],
   "source": [
    "Crime_at_hour['00']"
   ]
  },
  {
   "cell_type": "code",
   "execution_count": 70,
   "metadata": {
    "collapsed": false
   },
   "outputs": [
    {
     "name": "stdout",
     "output_type": "stream",
     "text": [
      "24\n"
     ]
    }
   ],
   "source": [
    "print(len(Crime_at_hour))"
   ]
  },
  {
   "cell_type": "code",
   "execution_count": 71,
   "metadata": {
    "collapsed": false
   },
   "outputs": [
    {
     "name": "stdout",
     "output_type": "stream",
     "text": [
      "1439\n"
     ]
    }
   ],
   "source": [
    "print(len(time_of_crime_all))"
   ]
  },
  {
   "cell_type": "code",
   "execution_count": 72,
   "metadata": {
    "collapsed": false
   },
   "outputs": [
    {
     "data": {
      "text/plain": [
       "1440"
      ]
     },
     "execution_count": 72,
     "metadata": {},
     "output_type": "execute_result"
    }
   ],
   "source": [
    "60 * 24"
   ]
  },
  {
   "cell_type": "code",
   "execution_count": null,
   "metadata": {
    "collapsed": true
   },
   "outputs": [],
   "source": []
  }
 ],
 "metadata": {
  "kernelspec": {
   "display_name": "Python 3",
   "language": "python",
   "name": "python3"
  },
  "language_info": {
   "codemirror_mode": {
    "name": "ipython",
    "version": 3
   },
   "file_extension": ".py",
   "mimetype": "text/x-python",
   "name": "python",
   "nbconvert_exporter": "python",
   "pygments_lexer": "ipython3",
   "version": "3.5.1"
  }
 },
 "nbformat": 4,
 "nbformat_minor": 0
}
