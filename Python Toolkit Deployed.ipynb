{
 "cells": [
  {
   "cell_type": "code",
   "execution_count": 5,
   "metadata": {
    "collapsed": true
   },
   "outputs": [],
   "source": [
    "import sys"
   ]
  },
  {
   "cell_type": "code",
   "execution_count": 6,
   "metadata": {
    "collapsed": true
   },
   "outputs": [],
   "source": [
    "import os"
   ]
  },
  {
   "cell_type": "code",
   "execution_count": 7,
   "metadata": {
    "collapsed": true
   },
   "outputs": [],
   "source": [
    "import glob"
   ]
  },
  {
   "cell_type": "code",
   "execution_count": 8,
   "metadata": {
    "collapsed": true
   },
   "outputs": [],
   "source": [
    "from collections import Counter"
   ]
  },
  {
   "cell_type": "code",
   "execution_count": 9,
   "metadata": {
    "collapsed": false
   },
   "outputs": [],
   "source": [
    "# Returns file names, directory names, & directory locations\n",
    "def getFileAndDirectoryNames(location = os.getcwd()):\n",
    "    path = location\n",
    "    fileArray = []\n",
    "    directoryArray = []\n",
    "    directoryLocations = []\n",
    "\n",
    "    for file in next(os.walk(path))[2]:\n",
    "        fileArray.append(file)\n",
    "\n",
    "    for directory in next(os.walk(path))[1]:\n",
    "        directoryArray.append(directory)\n",
    "        directoryLocations.append(path+\"//\"+directory)\n",
    "\n",
    "    print(\"FILES----------------------\")\n",
    "    for file in fileArray:\n",
    "        print(file)\n",
    "\n",
    "    print()\n",
    "    print(\"DIRECTORIES----------------\")\n",
    "    for directory in directoryArray:\n",
    "        print(directory)\n",
    "    print(\"---------------------------------------------------------------------\")\n",
    "        \n",
    "    return (fileArray, directoryArray, directoryLocations)"
   ]
  },
  {
   "cell_type": "code",
   "execution_count": 10,
   "metadata": {
    "collapsed": true
   },
   "outputs": [],
   "source": [
    "# Retrieves Sub Directory Information(Files and Directories)\n",
    "def getSubDirectoryFilesAndDirectories(directoryLocations):\n",
    "    for location in directoryLocations:\n",
    "        print(location)\n",
    "        getFileAndDirectoryNames(location)"
   ]
  },
  {
   "cell_type": "code",
   "execution_count": 11,
   "metadata": {
    "collapsed": true
   },
   "outputs": [],
   "source": [
    "# Returns a List of File Types\n",
    "def getFileTypes(fileArray):\n",
    "    fileTypes = []\n",
    "    for file in fileArray:\n",
    "        extension = file.split(\".\")[1]\n",
    "        fileTypes.append(extension)\n",
    "    return fileTypes"
   ]
  },
  {
   "cell_type": "code",
   "execution_count": 27,
   "metadata": {
    "collapsed": true
   },
   "outputs": [],
   "source": [
    "# Returns a Count of Each File Type as a Counter Object\n",
    "def getFileCounts(fileTypes):\n",
    "    return Counter(fileTypes)"
   ]
  },
  {
   "cell_type": "code",
   "execution_count": 12,
   "metadata": {
    "collapsed": true
   },
   "outputs": [],
   "source": [
    "# Use this Method to read a File Line-By-Line\n",
    "def readFile_LineByLine(fileName):    \n",
    "    with open(fileName, 'r') as file:\n",
    "        for line in file:\n",
    "            print(line)"
   ]
  },
  {
   "cell_type": "code",
   "execution_count": 13,
   "metadata": {
    "collapsed": true
   },
   "outputs": [],
   "source": [
    "# Recursively call the above Method on a List of Files\n",
    "def readFiles(fileList):\n",
    "    for file in fileList:\n",
    "        readFileLineByLine(file)"
   ]
  },
  {
   "cell_type": "code",
   "execution_count": 14,
   "metadata": {
    "collapsed": true
   },
   "outputs": [],
   "source": [
    "# Open File, Write 'text' and Close\n",
    "def openWriteClose(fileName, text):\n",
    "    with open(fileName, 'w') as file:\n",
    "        file.write(text)"
   ]
  },
  {
   "cell_type": "code",
   "execution_count": 15,
   "metadata": {
    "collapsed": false
   },
   "outputs": [],
   "source": [
    "# Open File, Append, & Close\n",
    "def openAppendClose(fileName, text):\n",
    "    with open(fileName, 'a') as file:\n",
    "        file.write(text)"
   ]
  },
  {
   "cell_type": "code",
   "execution_count": 16,
   "metadata": {
    "collapsed": true
   },
   "outputs": [],
   "source": [
    "# Open and Read all Lines from a File. NOTE: Returns a list.\n",
    "def openReadAll(fileName):\n",
    "    with open(fileName, 'r') as file:\n",
    "        return file.readlines()"
   ]
  },
  {
   "cell_type": "code",
   "execution_count": 17,
   "metadata": {
    "collapsed": true
   },
   "outputs": [],
   "source": [
    "# Construct a Single String from all Lines\n",
    "def appendAllLinesInFile(Lines):\n",
    "    allLines = ''\n",
    "    for line in Lines:\n",
    "        allLines += line.rstrip() +\" \"\n",
    "    return allLines.rstrip()"
   ]
  },
  {
   "cell_type": "code",
   "execution_count": 18,
   "metadata": {
    "collapsed": true
   },
   "outputs": [],
   "source": [
    "# Get Word Frequency\n",
    "def fileWordFrequency(text):\n",
    "    wordList = text.split(\" \")\n",
    "    return Counter(wordList)"
   ]
  },
  {
   "cell_type": "code",
   "execution_count": 19,
   "metadata": {
    "collapsed": true
   },
   "outputs": [],
   "source": [
    "# Get the Number of Lines in a File \n",
    "def fileCountLines(fileName):\n",
    "    lines = 0\n",
    "    with open(fileName, 'r') as file:\n",
    "        for line in file:\n",
    "            lines += 1\n",
    "    print(lines)"
   ]
  },
  {
   "cell_type": "code",
   "execution_count": 20,
   "metadata": {
    "collapsed": true
   },
   "outputs": [],
   "source": [
    "# Get File Information: Creation Time, Modification Time, File Owner Information, File Size, Author ID and Group ID\n",
    "def getCreationModificationSizeOwnershipInfo(file):\n",
    "    creation_time = time.ctime(file.st_ctime)\n",
    "    modification_time = time.ctime(file.st_mtime)\n",
    "    fileSize = file.st_size\n",
    "    authorID = file.st_uid\n",
    "    groupID = file.st_gid\n",
    "    \n",
    "    print(\"User ID of file creator: \"+str(authorID))\n",
    "    print(\"Group ID of user: \"+str(groupID))\n",
    "    print(\"File size is: \"+str(fileSize) + \" bytes\")\n",
    "    print(\"File was created at:       \"+creation_time)\n",
    "    print(\"File was last modified at: \"+modification_time)\n",
    "    \n",
    "    creation_time = datetime.datetime.strptime(creationTime, \"%a %b %d %H:%M:%S %Y\")\n",
    "    modification_Time = datetime.datetime.strptime(modificationTime, \"%a %b %d %H:%M:%S %Y\")\n",
    "    \n",
    "    timeDifferenceFromCreation = modification_Time - creation_time\n",
    "    print(\"The file was modified \"+str(timeDifferenceFromCreation.seconds)+\" seconds after creation.\")\n",
    "    timeDifferenceFromNow = datetime.datetime.now() - modification_Time\n",
    "    print(\"The file was modified \"+str(round((timeDifferenceFromNow.seconds/60)/60))+\" hours ago from now.\")"
   ]
  },
  {
   "cell_type": "code",
   "execution_count": 37,
   "metadata": {
    "collapsed": true
   },
   "outputs": [],
   "source": [
    "# time1 & time2 should be like st_ctime or st_mtime\n",
    "def getDuration(time1, time2):\n",
    "    time1 = datetime.datetime.strptime(time1, \"%a %b %d %H:%M:%S %Y\")\n",
    "    time2 = datetime.datetime.strptime(time2, \"%a %b %d %H:%M:%S %Y\")\n",
    "    \n",
    "    timeDict = {}\n",
    "    \n",
    "    duration = time2 - time1\n",
    "    seconds = duration.seconds\n",
    "    minutes = seconds / 60\n",
    "    hours = minutes / 60\n",
    "    days = hours / 24\n",
    "    months = days / 30\n",
    "    years = months / 365\n",
    "    \n",
    "    timeDict['seconds'] = seconds\n",
    "    timeDict['minutes'] = minutes\n",
    "    timeDict['hours'] = hours\n",
    "    timeDict['days'] = days\n",
    "    timeDict['months'] = months\n",
    "    timeDict['years'] = years\n",
    "    \n",
    "    \n",
    "    return timeDict"
   ]
  },
  {
   "cell_type": "code",
   "execution_count": 21,
   "metadata": {
    "collapsed": true
   },
   "outputs": [],
   "source": [
    "# Split Line on Delimiters\n",
    "def splitSentence(delimiters, line):\n",
    "    return re.split(delimiters, line)"
   ]
  },
  {
   "cell_type": "code",
   "execution_count": 22,
   "metadata": {
    "collapsed": true
   },
   "outputs": [],
   "source": [
    "# Find Words in a Line\n",
    "def findWords(line):\n",
    "    return re.findall(r\"[\\w']+\", line)"
   ]
  },
  {
   "cell_type": "code",
   "execution_count": 23,
   "metadata": {
    "collapsed": true
   },
   "outputs": [],
   "source": [
    "# Get Punctuation Marks in a Line\n",
    "def getPunctuations(line):\n",
    "    from collections import Counter\n",
    "    punctuation = [',',';','.','!','?','-',':']\n",
    "    punctuationList = [(ch, line.index(ch)) for ch in line if ch in punctuation]\n",
    "    counterObj = Counter(punctuationList)\n",
    "    return counterObj.most_common()"
   ]
  },
  {
   "cell_type": "code",
   "execution_count": 1,
   "metadata": {
    "collapsed": true
   },
   "outputs": [],
   "source": [
    "# Returns a str\n",
    "def getTextFromFile(file):\n",
    "    with open(file, 'r') as document:\n",
    "        return str(document.readlines())"
   ]
  },
  {
   "cell_type": "code",
   "execution_count": 2,
   "metadata": {
    "collapsed": true
   },
   "outputs": [],
   "source": [
    "# Returns a list of sentences\n",
    "def getSentencesFromText(text):\n",
    "    sentences = []\n",
    "    for sentence in sent_tokenize(text):\n",
    "        sentences.append(sentence)\n",
    "    return sentences"
   ]
  },
  {
   "cell_type": "code",
   "execution_count": 3,
   "metadata": {
    "collapsed": true
   },
   "outputs": [],
   "source": [
    "# Returns words and words without stopwords\n",
    "def getWordsFromSentences(allSentences):\n",
    "    words = []\n",
    "    for sentence in allSentences:\n",
    "        for word in word_tokenize(sentence):\n",
    "            words.append(word)\n",
    "    print(words, len(words))\n",
    "    wordsFiltered = []\n",
    "    for word in words:\n",
    "        if word not in stopwords.words():\n",
    "            wordsFiltered.append(word)\n",
    "    print(wordsFiltered, len(wordsFiltered))\n",
    "    return (words, wordsFiltered)"
   ]
  },
  {
   "cell_type": "code",
   "execution_count": 1,
   "metadata": {
    "collapsed": true
   },
   "outputs": [],
   "source": [
    "# Get Part-of-Speech for each Word and a Frequency of Each Part-of-Speech in the Sentence.\n",
    "def getPartOfSpeech(line):\n",
    "    import nltk\n",
    "    from collections import Counter\n",
    "    posList = []\n",
    "    for pos in nltk.pos_tag(nltk.word_tokenize(line)):\n",
    "        posList.append(pos)\n",
    "    return(posList, Counter(posList))"
   ]
  },
  {
   "cell_type": "code",
   "execution_count": 2,
   "metadata": {
    "collapsed": true
   },
   "outputs": [],
   "source": [
    "# Get Part-of-Speech Information for a file as a dictionary. Key is sentence index, and value is a list of POS information.\n",
    "def getPartOfSpeechInfoForFile(file):\n",
    "    with open(file, 'r') as document:\n",
    "        text = document.read()\n",
    "        filePOSInfo = {}\n",
    "        for index, sentence in enumerate(nltk.sent_tokenize(text)):\n",
    "            sentencePOSInfo = []\n",
    "            for pos in nltk.pos_tag(nltk.word_tokenize(str(sentence))):\n",
    "                sentencePOSInfo.append(pos)\n",
    "            filePOSInfo[index] = sentencePOSInfo\n",
    "        return(filePOSInfo)"
   ]
  },
  {
   "cell_type": "code",
   "execution_count": 3,
   "metadata": {
    "collapsed": true
   },
   "outputs": [],
   "source": [
    "# Aggregate File Part-of-Speech Information i.e. frequency of each POS in each line in each sentence of the file.\n",
    "def aggregateFilePOSInfo(filePOSDict):\n",
    "    from collections import Counter\n",
    "    for k,v in filePOSDict.items():\n",
    "        filePOSDict[k] = Counter(v)\n",
    "    return filePOSDict"
   ]
  },
  {
   "cell_type": "code",
   "execution_count": null,
   "metadata": {
    "collapsed": true
   },
   "outputs": [],
   "source": [
    "# Get POS Information "
   ]
  }
 ],
 "metadata": {
  "kernelspec": {
   "display_name": "Python 3",
   "language": "python",
   "name": "python3"
  },
  "language_info": {
   "codemirror_mode": {
    "name": "ipython",
    "version": 3
   },
   "file_extension": ".py",
   "mimetype": "text/x-python",
   "name": "python",
   "nbconvert_exporter": "python",
   "pygments_lexer": "ipython3",
   "version": "3.5.1"
  }
 },
 "nbformat": 4,
 "nbformat_minor": 0
}
