{
 "cells": [
  {
   "cell_type": "code",
   "execution_count": 20,
   "metadata": {
    "collapsed": true
   },
   "outputs": [],
   "source": [
    "import sys"
   ]
  },
  {
   "cell_type": "code",
   "execution_count": 21,
   "metadata": {
    "collapsed": true
   },
   "outputs": [],
   "source": [
    "import os"
   ]
  },
  {
   "cell_type": "code",
   "execution_count": 22,
   "metadata": {
    "collapsed": true
   },
   "outputs": [],
   "source": [
    "import glob"
   ]
  },
  {
   "cell_type": "code",
   "execution_count": 23,
   "metadata": {
    "collapsed": true
   },
   "outputs": [],
   "source": [
    "from collections import Counter"
   ]
  },
  {
   "cell_type": "code",
   "execution_count": 24,
   "metadata": {
    "collapsed": true
   },
   "outputs": [],
   "source": [
    "def getFileAndDirectoryNames(location = os.getcwd()):\n",
    "    path = location\n",
    "    fileArray = []\n",
    "    directoryArray = []\n",
    "    directoryLocations = []\n",
    "\n",
    "    for file in next(os.walk(path))[2]:\n",
    "        fileArray.append(file)\n",
    "\n",
    "    for directory in next(os.walk(path))[1]:\n",
    "        directoryArray.append(directory)\n",
    "        directoryLocations.append(path+\"//\"+directory)\n",
    "\n",
    "    print(\"FILES----------------------\")\n",
    "    for file in fileArray:\n",
    "        print(file)\n",
    "\n",
    "    print()\n",
    "    print(\"DIRECTORIES----------------\")\n",
    "    for directory in directoryArray:\n",
    "        print(directory)\n",
    "    print(\"---------------------------------------------------------------------\")\n",
    "        \n",
    "    return (fileArray, directoryArray, directoryLocations)"
   ]
  },
  {
   "cell_type": "code",
   "execution_count": 25,
   "metadata": {
    "collapsed": true
   },
   "outputs": [],
   "source": [
    "def getSubDirectoryFilesAndDirectories(directoryLocations):\n",
    "    for location in directoryLocations:\n",
    "        print(location)\n",
    "        getFileAndDirectoryNames(location)"
   ]
  },
  {
   "cell_type": "code",
   "execution_count": 26,
   "metadata": {
    "collapsed": true
   },
   "outputs": [],
   "source": [
    "def getFileTypes(fileArray):\n",
    "    fileTypes = []\n",
    "    for file in fileArray:\n",
    "        extension = file.split(\".\")[1]\n",
    "        fileTypes.append(extension)\n",
    "    return fileTypes"
   ]
  },
  {
   "cell_type": "code",
   "execution_count": 27,
   "metadata": {
    "collapsed": true
   },
   "outputs": [],
   "source": [
    "def getFileCounts(fileTypes):\n",
    "    return Counter(fileTypes)"
   ]
  },
  {
   "cell_type": "code",
   "execution_count": 28,
   "metadata": {
    "collapsed": true
   },
   "outputs": [],
   "source": [
    "def readFile_LineByLine(fileName):    \n",
    "    with open(fileName, 'r') as file:\n",
    "        for line in file:\n",
    "            print(line)"
   ]
  },
  {
   "cell_type": "code",
   "execution_count": 29,
   "metadata": {
    "collapsed": true
   },
   "outputs": [],
   "source": [
    "def readFiles(fileList):\n",
    "    for file in fileList:\n",
    "        readFileLineByLine(file)"
   ]
  },
  {
   "cell_type": "code",
   "execution_count": 30,
   "metadata": {
    "collapsed": true
   },
   "outputs": [],
   "source": [
    "def openWriteClose(fileName):\n",
    "    with open(fileName, 'w') as file:\n",
    "        file.write(\"New text written, now closing.\")"
   ]
  },
  {
   "cell_type": "code",
   "execution_count": 31,
   "metadata": {
    "collapsed": false
   },
   "outputs": [],
   "source": [
    "def openAppendClose(fileName):\n",
    "    with open(fileName, 'a') as file:\n",
    "        file.write(\"Text appended, now closing.\")"
   ]
  },
  {
   "cell_type": "code",
   "execution_count": 32,
   "metadata": {
    "collapsed": true
   },
   "outputs": [],
   "source": [
    "def openReadAll(fileName):\n",
    "    with open(fileName, 'r') as file:\n",
    "        return file.readlines()"
   ]
  },
  {
   "cell_type": "code",
   "execution_count": 33,
   "metadata": {
    "collapsed": true
   },
   "outputs": [],
   "source": [
    "def appendAllLinesInFile(Lines):\n",
    "    allLines = ''\n",
    "    for line in Lines:\n",
    "        allLines += line.rstrip() +\" \"\n",
    "    return allLines.rstrip()"
   ]
  },
  {
   "cell_type": "code",
   "execution_count": 34,
   "metadata": {
    "collapsed": true
   },
   "outputs": [],
   "source": [
    "def fileWordFrequency(text):\n",
    "    wordList = text.split(\" \")\n",
    "    return Counter(wordList)"
   ]
  },
  {
   "cell_type": "code",
   "execution_count": 35,
   "metadata": {
    "collapsed": true
   },
   "outputs": [],
   "source": [
    "def fileCountLines(fileName):\n",
    "    lines = 0\n",
    "    with open(fileName, 'r') as file:\n",
    "        for line in file:\n",
    "            lines += 1\n",
    "    print(lines)"
   ]
  },
  {
   "cell_type": "code",
   "execution_count": 36,
   "metadata": {
    "collapsed": true
   },
   "outputs": [],
   "source": [
    "def getCreationModificationSizeOwnershipInfo(file):\n",
    "    creation_time = time.ctime(file.st_ctime)\n",
    "    modification_time = time.ctime(file.st_mtime)\n",
    "    fileSize = file.st_size\n",
    "    authorID = file.st_uid\n",
    "    groupID = file.st_gid\n",
    "    \n",
    "    print(\"User ID of file creator: \"+str(authorID))\n",
    "    print(\"Group ID of user: \"+str(groupID))\n",
    "    print(\"File size is: \"+str(fileSize) + \" bytes\")\n",
    "    print(\"File was created at:       \"+creation_time)\n",
    "    print(\"File was last modified at: \"+modification_time)\n",
    "    \n",
    "    creation_time = datetime.datetime.strptime(creationTime, \"%a %b %d %H:%M:%S %Y\")\n",
    "    modification_Time = datetime.datetime.strptime(modificationTime, \"%a %b %d %H:%M:%S %Y\")\n",
    "    \n",
    "    timeDifferenceFromCreation = modification_Time - creation_time\n",
    "    print(\"The file was modified \"+str(timeDifferenceFromCreation.seconds)+\" seconds after creation.\")\n",
    "    timeDifferenceFromNow = datetime.datetime.now() - modification_Time\n",
    "    print(\"The file was modified \"+str(round((timeDifferenceFromNow.seconds/60)/60))+\" hours ago from now.\")"
   ]
  },
  {
   "cell_type": "code",
   "execution_count": 37,
   "metadata": {
    "collapsed": true
   },
   "outputs": [],
   "source": [
    "# time1 & time2 should be like st_ctime or st_mtime\n",
    "def getDuration(time1, time2):\n",
    "    time1 = datetime.datetime.strptime(time1, \"%a %b %d %H:%M:%S %Y\")\n",
    "    time2 = datetime.datetime.strptime(time2, \"%a %b %d %H:%M:%S %Y\")\n",
    "    \n",
    "    timeDict = {}\n",
    "    \n",
    "    duration = time2 - time1\n",
    "    seconds = duration.seconds\n",
    "    minutes = seconds / 60\n",
    "    hours = minutes / 60\n",
    "    days = hours / 24\n",
    "    months = days / 30\n",
    "    years = months / 365\n",
    "    \n",
    "    timeDict['seconds'] = seconds\n",
    "    timeDict['minutes'] = minutes\n",
    "    timeDict['hours'] = hours\n",
    "    timeDict['days'] = days\n",
    "    timeDict['months'] = months\n",
    "    timeDict['years'] = years\n",
    "    \n",
    "    \n",
    "    return timeDict"
   ]
  },
  {
   "cell_type": "code",
   "execution_count": 38,
   "metadata": {
    "collapsed": true
   },
   "outputs": [],
   "source": [
    "def splitSentence(delimiters, line):\n",
    "    return re.split(delimiters, line)"
   ]
  },
  {
   "cell_type": "code",
   "execution_count": 39,
   "metadata": {
    "collapsed": true
   },
   "outputs": [],
   "source": [
    "def findWords(line):\n",
    "    return re.findall(r\"[\\w']+\", line)"
   ]
  },
  {
   "cell_type": "code",
   "execution_count": null,
   "metadata": {
    "collapsed": true
   },
   "outputs": [],
   "source": []
  }
 ],
 "metadata": {
  "kernelspec": {
   "display_name": "Python 3",
   "language": "python",
   "name": "python3"
  },
  "language_info": {
   "codemirror_mode": {
    "name": "ipython",
    "version": 3
   },
   "file_extension": ".py",
   "mimetype": "text/x-python",
   "name": "python",
   "nbconvert_exporter": "python",
   "pygments_lexer": "ipython3",
   "version": "3.5.1"
  }
 },
 "nbformat": 4,
 "nbformat_minor": 0
}
