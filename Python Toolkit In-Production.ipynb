{
 "cells": [
  {
   "cell_type": "code",
   "execution_count": 1,
   "metadata": {
    "collapsed": true
   },
   "outputs": [],
   "source": [
    "import sys"
   ]
  },
  {
   "cell_type": "code",
   "execution_count": 2,
   "metadata": {
    "collapsed": true
   },
   "outputs": [],
   "source": [
    "import os"
   ]
  },
  {
   "cell_type": "code",
   "execution_count": 3,
   "metadata": {
    "collapsed": true
   },
   "outputs": [],
   "source": [
    "import glob"
   ]
  },
  {
   "cell_type": "code",
   "execution_count": 103,
   "metadata": {
    "collapsed": false
   },
   "outputs": [],
   "source": [
    "def getFileAndDirectoryNames(location = os.getcwd()):\n",
    "    path = location\n",
    "    fileArray = []\n",
    "    directoryArray = []\n",
    "    directoryLocations = []\n",
    "\n",
    "    for file in next(os.walk(path))[2]:\n",
    "        fileArray.append(file)\n",
    "\n",
    "    for directory in next(os.walk(path))[1]:\n",
    "        directoryArray.append(directory)\n",
    "        directoryLocations.append(path+\"//\"+directory)\n",
    "\n",
    "    print(\"FILES----------------------\")\n",
    "    for file in fileArray:\n",
    "        print(file)\n",
    "\n",
    "    print()\n",
    "    print(\"DIRECTORIES----------------\")\n",
    "    for directory in directoryArray:\n",
    "        print(directory)\n",
    "    print(\"---------------------------------------------------------------------\")\n",
    "        \n",
    "    return (fileArray, directoryArray, directoryLocations)"
   ]
  },
  {
   "cell_type": "code",
   "execution_count": 104,
   "metadata": {
    "collapsed": false
   },
   "outputs": [
    {
     "name": "stdout",
     "output_type": "stream",
     "text": [
      "FILES----------------------\n",
      "File.txt\n",
      "\n",
      "DIRECTORIES----------------\n",
      "Folder\n",
      "---------------------------------------------------------------------\n"
     ]
    }
   ],
   "source": [
    "(fileArray, directoryArray, directoryLocations) = getFileAndDirectoryNames(\"C://Users//Rittick//Documents//Jupyter_notebooks//Sample\")"
   ]
  },
  {
   "cell_type": "code",
   "execution_count": 105,
   "metadata": {
    "collapsed": false
   },
   "outputs": [
    {
     "data": {
      "text/plain": [
       "['File.txt']"
      ]
     },
     "execution_count": 105,
     "metadata": {},
     "output_type": "execute_result"
    }
   ],
   "source": [
    "fileArray"
   ]
  },
  {
   "cell_type": "code",
   "execution_count": 106,
   "metadata": {
    "collapsed": false
   },
   "outputs": [
    {
     "data": {
      "text/plain": [
       "['Folder']"
      ]
     },
     "execution_count": 106,
     "metadata": {},
     "output_type": "execute_result"
    }
   ],
   "source": [
    "directoryArray"
   ]
  },
  {
   "cell_type": "code",
   "execution_count": 107,
   "metadata": {
    "collapsed": false,
    "scrolled": true
   },
   "outputs": [
    {
     "data": {
      "text/plain": [
       "['C://Users//Rittick//Documents//Jupyter_notebooks//Sample//Folder']"
      ]
     },
     "execution_count": 107,
     "metadata": {},
     "output_type": "execute_result"
    }
   ],
   "source": [
    "directoryLocations"
   ]
  },
  {
   "cell_type": "code",
   "execution_count": 108,
   "metadata": {
    "collapsed": false
   },
   "outputs": [],
   "source": [
    "def getSubDirectoryFilesAndDirectories(directoryLocations):\n",
    "    for location in directoryLocations:\n",
    "        print(location)\n",
    "        getFileAndDirectoryNames(location)"
   ]
  },
  {
   "cell_type": "code",
   "execution_count": 109,
   "metadata": {
    "collapsed": false
   },
   "outputs": [
    {
     "name": "stdout",
     "output_type": "stream",
     "text": [
      "C://Users//Rittick//Documents//Jupyter_notebooks//Sample//Folder\n",
      "FILES----------------------\n",
      "File.txt\n",
      "\n",
      "DIRECTORIES----------------\n",
      "---------------------------------------------------------------------\n"
     ]
    }
   ],
   "source": [
    "getSubDirectoryFilesAndDirectories(directoryLocations)"
   ]
  },
  {
   "cell_type": "code",
   "execution_count": 116,
   "metadata": {
    "collapsed": false
   },
   "outputs": [],
   "source": [
    "fileArray = [\"file.txt\", \"file.doc\",\"file.doc\", \"file.html\", \"file.xlsx\"]"
   ]
  },
  {
   "cell_type": "code",
   "execution_count": 119,
   "metadata": {
    "collapsed": true
   },
   "outputs": [],
   "source": [
    "from collections import Counter"
   ]
  },
  {
   "cell_type": "code",
   "execution_count": 120,
   "metadata": {
    "collapsed": true
   },
   "outputs": [],
   "source": [
    "def getFileTypes(fileArray):\n",
    "    fileTypes = []\n",
    "    for file in fileArray:\n",
    "        extension = file.split(\".\")[1]\n",
    "        fileTypes.append(extension)\n",
    "    return fileTypes"
   ]
  },
  {
   "cell_type": "code",
   "execution_count": 121,
   "metadata": {
    "collapsed": false
   },
   "outputs": [
    {
     "data": {
      "text/plain": [
       "['txt', 'doc', 'doc', 'html', 'xlsx']"
      ]
     },
     "execution_count": 121,
     "metadata": {},
     "output_type": "execute_result"
    }
   ],
   "source": [
    "fileTypes = getFileTypes(fileArray)"
   ]
  },
  {
   "cell_type": "code",
   "execution_count": 122,
   "metadata": {
    "collapsed": true
   },
   "outputs": [],
   "source": [
    "def getFileCounts(fileTypes):\n",
    "    return Counter(fileTypes)"
   ]
  },
  {
   "cell_type": "code",
   "execution_count": 123,
   "metadata": {
    "collapsed": false
   },
   "outputs": [
    {
     "data": {
      "text/plain": [
       "Counter({'file.doc': 2, 'file.html': 1, 'file.txt': 1, 'file.xlsx': 1})"
      ]
     },
     "execution_count": 123,
     "metadata": {},
     "output_type": "execute_result"
    }
   ],
   "source": [
    "getFileCounts(fileArray)"
   ]
  },
  {
   "cell_type": "code",
   "execution_count": 170,
   "metadata": {
    "collapsed": false
   },
   "outputs": [],
   "source": [
    "def readFile_LineByLine(fileName):    \n",
    "    with open(fileName, 'r') as file:\n",
    "        for line in file:\n",
    "            print(line)"
   ]
  },
  {
   "cell_type": "code",
   "execution_count": 172,
   "metadata": {
    "collapsed": false
   },
   "outputs": [
    {
     "name": "stdout",
     "output_type": "stream",
     "text": [
      "Text appended, now closing.Text appended, now closing.\n"
     ]
    }
   ],
   "source": [
    "readFile_LineByLine(\"file12.txt\")"
   ]
  },
  {
   "cell_type": "code",
   "execution_count": 151,
   "metadata": {
    "collapsed": true
   },
   "outputs": [],
   "source": [
    "def readFiles(fileList):\n",
    "    for file in fileList:\n",
    "        readFileLineByLine(file)"
   ]
  },
  {
   "cell_type": "code",
   "execution_count": 173,
   "metadata": {
    "collapsed": false
   },
   "outputs": [
    {
     "name": "stdout",
     "output_type": "stream",
     "text": [
      "Text appended, now closing.Text appended, now closing.\n",
      "this is a SAMPLE text file\n",
      "\n",
      "this is second line in file\n",
      "\n",
      "this is third line in file\n"
     ]
    }
   ],
   "source": [
    "readFiles([\"file12.txt\", \"Sample.txt\"])"
   ]
  },
  {
   "cell_type": "code",
   "execution_count": 157,
   "metadata": {
    "collapsed": true
   },
   "outputs": [],
   "source": [
    "def openWriteClose(fileName):\n",
    "    with open(fileName, 'w') as file:\n",
    "        file.write(\"New text written, now closing.\")"
   ]
  },
  {
   "cell_type": "code",
   "execution_count": 165,
   "metadata": {
    "collapsed": true
   },
   "outputs": [],
   "source": [
    "openWriteClose(\"file12.txt\")"
   ]
  },
  {
   "cell_type": "code",
   "execution_count": 1,
   "metadata": {
    "collapsed": true
   },
   "outputs": [],
   "source": [
    "def openAppendClose(fileName):\n",
    "    with open(fileName, 'a') as file:\n",
    "        file.write(\"Text appended, now closing.\")"
   ]
  },
  {
   "cell_type": "code",
   "execution_count": 167,
   "metadata": {
    "collapsed": true
   },
   "outputs": [],
   "source": [
    "openAppendClose(\"file12.txt\")"
   ]
  },
  {
   "cell_type": "code",
   "execution_count": 178,
   "metadata": {
    "collapsed": true
   },
   "outputs": [],
   "source": [
    "def openReadAll(fileName):\n",
    "    with open(fileName, 'r') as file:\n",
    "        return file.readlines()"
   ]
  },
  {
   "cell_type": "code",
   "execution_count": 183,
   "metadata": {
    "collapsed": false
   },
   "outputs": [],
   "source": [
    "allLines = openReadAll(\"Sample.txt\")"
   ]
  },
  {
   "cell_type": "code",
   "execution_count": 209,
   "metadata": {
    "collapsed": true
   },
   "outputs": [],
   "source": [
    "def appendAllLinesInFile(Lines):\n",
    "    allLines = ''\n",
    "    for line in Lines:\n",
    "        allLines += line.rstrip() +\" \"\n",
    "    return allLines.rstrip()"
   ]
  },
  {
   "cell_type": "code",
   "execution_count": 210,
   "metadata": {
    "collapsed": false
   },
   "outputs": [],
   "source": [
    "allText = appendAllLinesInFile(allLines)"
   ]
  },
  {
   "cell_type": "code",
   "execution_count": 211,
   "metadata": {
    "collapsed": false
   },
   "outputs": [
    {
     "data": {
      "text/plain": [
       "81"
      ]
     },
     "execution_count": 211,
     "metadata": {},
     "output_type": "execute_result"
    }
   ],
   "source": [
    "len(allText)"
   ]
  },
  {
   "cell_type": "code",
   "execution_count": 212,
   "metadata": {
    "collapsed": false
   },
   "outputs": [
    {
     "data": {
      "text/plain": [
       "'this is a SAMPLE text file this is second line in file this is third line in file'"
      ]
     },
     "execution_count": 212,
     "metadata": {},
     "output_type": "execute_result"
    }
   ],
   "source": [
    "str(allText)"
   ]
  },
  {
   "cell_type": "code",
   "execution_count": 221,
   "metadata": {
    "collapsed": true
   },
   "outputs": [],
   "source": [
    "def fileWordFrequency(text):\n",
    "    wordList = text.split(\" \")\n",
    "    return Counter(wordList)"
   ]
  },
  {
   "cell_type": "code",
   "execution_count": 223,
   "metadata": {
    "collapsed": false
   },
   "outputs": [],
   "source": [
    "wordFrequency = fileWordFrequency(allText)"
   ]
  },
  {
   "cell_type": "code",
   "execution_count": 224,
   "metadata": {
    "collapsed": false
   },
   "outputs": [
    {
     "data": {
      "text/plain": [
       "collections.Counter"
      ]
     },
     "execution_count": 224,
     "metadata": {},
     "output_type": "execute_result"
    }
   ],
   "source": [
    "type(wordFrequency)"
   ]
  },
  {
   "cell_type": "code",
   "execution_count": 228,
   "metadata": {
    "collapsed": false
   },
   "outputs": [],
   "source": [
    "def fileCountLines(fileName):\n",
    "    lines = 0\n",
    "    with open(fileName, 'r') as file:\n",
    "        for line in file:\n",
    "            lines += 1\n",
    "    print(lines)"
   ]
  },
  {
   "cell_type": "code",
   "execution_count": 229,
   "metadata": {
    "collapsed": false
   },
   "outputs": [
    {
     "name": "stdout",
     "output_type": "stream",
     "text": [
      "3\n"
     ]
    }
   ],
   "source": [
    "fileCountLines(\"Sample.txt\")"
   ]
  },
  {
   "cell_type": "code",
   "execution_count": 102,
   "metadata": {
    "collapsed": false
   },
   "outputs": [],
   "source": [
    "file = os.stat(\"File12.txt\")"
   ]
  },
  {
   "cell_type": "code",
   "execution_count": 103,
   "metadata": {
    "collapsed": false
   },
   "outputs": [
    {
     "data": {
      "text/plain": [
       "54"
      ]
     },
     "execution_count": 103,
     "metadata": {},
     "output_type": "execute_result"
    }
   ],
   "source": [
    "file.st_size"
   ]
  },
  {
   "cell_type": "code",
   "execution_count": 104,
   "metadata": {
    "collapsed": false
   },
   "outputs": [
    {
     "data": {
      "text/plain": [
       "1512806663.6350782"
      ]
     },
     "execution_count": 104,
     "metadata": {},
     "output_type": "execute_result"
    }
   ],
   "source": [
    "file.st_atime"
   ]
  },
  {
   "cell_type": "code",
   "execution_count": 105,
   "metadata": {
    "collapsed": true
   },
   "outputs": [],
   "source": [
    "import datetime\n",
    "import time"
   ]
  },
  {
   "cell_type": "code",
   "execution_count": 106,
   "metadata": {
    "collapsed": false
   },
   "outputs": [],
   "source": [
    "creationTime = time.ctime(file.st_ctime)"
   ]
  },
  {
   "cell_type": "code",
   "execution_count": 107,
   "metadata": {
    "collapsed": false
   },
   "outputs": [
    {
     "data": {
      "text/plain": [
       "'Sat Dec  9 00:03:46 2017'"
      ]
     },
     "execution_count": 107,
     "metadata": {},
     "output_type": "execute_result"
    }
   ],
   "source": [
    "creationTime"
   ]
  },
  {
   "cell_type": "code",
   "execution_count": 108,
   "metadata": {
    "collapsed": false
   },
   "outputs": [],
   "source": [
    "modificationTime =time.ctime(file.st_mtime)"
   ]
  },
  {
   "cell_type": "code",
   "execution_count": 189,
   "metadata": {
    "collapsed": false
   },
   "outputs": [],
   "source": [
    "def getCreationModificationSizeOwnershipInfo(file):\n",
    "    creation_time = time.ctime(file.st_ctime)\n",
    "    modification_time = time.ctime(file.st_mtime)\n",
    "    fileSize = file.st_size\n",
    "    authorID = file.st_uid\n",
    "    groupID = file.st_gid\n",
    "    \n",
    "    print(\"User ID of file creator: \"+str(authorID))\n",
    "    print(\"Group ID of user: \"+str(groupID))\n",
    "    print(\"File size is: \"+str(fileSize) + \" bytes\")\n",
    "    print(\"File was created at:       \"+creation_time)\n",
    "    print(\"File was last modified at: \"+modification_time)\n",
    "    \n",
    "    creation_time = datetime.datetime.strptime(creationTime, \"%a %b %d %H:%M:%S %Y\")\n",
    "    modification_Time = datetime.datetime.strptime(modificationTime, \"%a %b %d %H:%M:%S %Y\")\n",
    "    \n",
    "    timeDifferenceFromCreation = modification_Time - creation_time\n",
    "    print(\"The file was modified \"+str(timeDifferenceFromCreation.seconds)+\" seconds after creation.\")\n",
    "    timeDifferenceFromNow = datetime.datetime.now() - modification_Time\n",
    "    print(\"The file was modified \"+str(round((timeDifferenceFromNow.seconds/60)/60))+\" hours ago from now.\")"
   ]
  },
  {
   "cell_type": "code",
   "execution_count": 190,
   "metadata": {
    "collapsed": false
   },
   "outputs": [
    {
     "name": "stdout",
     "output_type": "stream",
     "text": [
      "User ID of file creator: 0\n",
      "Group ID of user: 0\n",
      "File size is: 54 bytes\n",
      "File was created at:       Sat Dec  9 00:03:46 2017\n",
      "File was last modified at: Sat Dec  9 00:04:31 2017\n",
      "The file was modified 45 seconds after creation.\n",
      "The file was modified 14 hours ago from now.\n"
     ]
    }
   ],
   "source": [
    "getCreationModificationSizeOwnershipInfo(file)"
   ]
  },
  {
   "cell_type": "code",
   "execution_count": 127,
   "metadata": {
    "collapsed": false
   },
   "outputs": [],
   "source": [
    "creation_time = datetime.datetime.strptime(creationTime, \"%a %b %d %H:%M:%S %Y\")"
   ]
  },
  {
   "cell_type": "code",
   "execution_count": 128,
   "metadata": {
    "collapsed": false
   },
   "outputs": [],
   "source": [
    "modification_Time = datetime.datetime.strptime(modificationTime, \"%a %b %d %H:%M:%S %Y\")"
   ]
  },
  {
   "cell_type": "code",
   "execution_count": 129,
   "metadata": {
    "collapsed": false
   },
   "outputs": [
    {
     "data": {
      "text/plain": [
       "datetime.datetime(2017, 12, 9, 0, 3, 46)"
      ]
     },
     "execution_count": 129,
     "metadata": {},
     "output_type": "execute_result"
    }
   ],
   "source": [
    "creation_time"
   ]
  },
  {
   "cell_type": "code",
   "execution_count": 130,
   "metadata": {
    "collapsed": false
   },
   "outputs": [
    {
     "data": {
      "text/plain": [
       "datetime.datetime(2017, 12, 9, 0, 4, 31)"
      ]
     },
     "execution_count": 130,
     "metadata": {},
     "output_type": "execute_result"
    }
   ],
   "source": [
    "modification_Time"
   ]
  },
  {
   "cell_type": "code",
   "execution_count": 139,
   "metadata": {
    "collapsed": false
   },
   "outputs": [
    {
     "data": {
      "text/plain": [
       "datetime.timedelta(0, 45)"
      ]
     },
     "execution_count": 139,
     "metadata": {},
     "output_type": "execute_result"
    }
   ],
   "source": [
    "modification_Time - creation_time"
   ]
  },
  {
   "cell_type": "code",
   "execution_count": 134,
   "metadata": {
    "collapsed": false
   },
   "outputs": [],
   "source": [
    "time1 = datetime.datetime.now()"
   ]
  },
  {
   "cell_type": "code",
   "execution_count": 135,
   "metadata": {
    "collapsed": false
   },
   "outputs": [],
   "source": [
    "time2 = datetime.datetime.now()"
   ]
  },
  {
   "cell_type": "code",
   "execution_count": 136,
   "metadata": {
    "collapsed": false
   },
   "outputs": [
    {
     "data": {
      "text/plain": [
       "datetime.datetime(2017, 12, 9, 13, 48, 41, 697773)"
      ]
     },
     "execution_count": 136,
     "metadata": {},
     "output_type": "execute_result"
    }
   ],
   "source": [
    "time1\n"
   ]
  },
  {
   "cell_type": "code",
   "execution_count": 137,
   "metadata": {
    "collapsed": false
   },
   "outputs": [
    {
     "data": {
      "text/plain": [
       "datetime.datetime(2017, 12, 9, 13, 48, 47, 703784)"
      ]
     },
     "execution_count": 137,
     "metadata": {},
     "output_type": "execute_result"
    }
   ],
   "source": [
    "time2"
   ]
  },
  {
   "cell_type": "code",
   "execution_count": 144,
   "metadata": {
    "collapsed": false
   },
   "outputs": [],
   "source": [
    "t = time2 - time1"
   ]
  },
  {
   "cell_type": "code",
   "execution_count": 145,
   "metadata": {
    "collapsed": false
   },
   "outputs": [
    {
     "data": {
      "text/plain": [
       "datetime.timedelta(0, 6, 6011)"
      ]
     },
     "execution_count": 145,
     "metadata": {},
     "output_type": "execute_result"
    }
   ],
   "source": [
    "t"
   ]
  },
  {
   "cell_type": "code",
   "execution_count": 143,
   "metadata": {
    "collapsed": false
   },
   "outputs": [
    {
     "data": {
      "text/plain": [
       "6"
      ]
     },
     "execution_count": 143,
     "metadata": {},
     "output_type": "execute_result"
    }
   ],
   "source": [
    "t.seconds"
   ]
  },
  {
   "cell_type": "code",
   "execution_count": 146,
   "metadata": {
    "collapsed": false
   },
   "outputs": [
    {
     "data": {
      "text/plain": [
       "6011"
      ]
     },
     "execution_count": 146,
     "metadata": {},
     "output_type": "execute_result"
    }
   ],
   "source": [
    "t.microseconds"
   ]
  },
  {
   "cell_type": "code",
   "execution_count": 200,
   "metadata": {
    "collapsed": true
   },
   "outputs": [],
   "source": [
    "def getDuration(time1, time2):\n",
    "    time1 = datetime.datetime.strptime(time1, \"%a %b %d %H:%M:%S %Y\")\n",
    "    time2 = datetime.datetime.strptime(time2, \"%a %b %d %H:%M:%S %Y\")\n",
    "    \n",
    "    timeDict = {}\n",
    "    \n",
    "    duration = time2 - time1\n",
    "    seconds = duration.seconds\n",
    "    minutes = seconds / 60\n",
    "    hours = minutes / 60\n",
    "    days = hours / 24\n",
    "    months = days / 30\n",
    "    years = months / 365\n",
    "    \n",
    "    timeDict['seconds'] = seconds\n",
    "    timeDict['minutes'] = minutes\n",
    "    timeDict['hours'] = hours\n",
    "    timeDict['days'] = days\n",
    "    timeDict['months'] = months\n",
    "    timeDict['years'] = years\n",
    "    \n",
    "    \n",
    "    return timeDict"
   ]
  },
  {
   "cell_type": "code",
   "execution_count": 201,
   "metadata": {
    "collapsed": false
   },
   "outputs": [
    {
     "data": {
      "text/plain": [
       "{'days': 0.0005208333333333333,\n",
       " 'hours': 0.0125,\n",
       " 'minutes': 0.75,\n",
       " 'months': 1.736111111111111e-05,\n",
       " 'seconds': 45,\n",
       " 'years': 4.756468797564688e-08}"
      ]
     },
     "execution_count": 201,
     "metadata": {},
     "output_type": "execute_result"
    }
   ],
   "source": [
    "getDuration(creationTime, modificationTime)"
   ]
  },
  {
   "cell_type": "code",
   "execution_count": 223,
   "metadata": {
    "collapsed": true
   },
   "outputs": [],
   "source": [
    "def word(word):\n",
    "    characters = []\n",
    "    isFirstWord = False\n",
    "    checkOnce = 0\n",
    "    for letter in word:\n",
    "        if checkOnce == 0:\n",
    "            checkOnce += 1\n",
    "            if letter.isupper():\n",
    "                isFirstWord = True\n",
    "        characters.append(letter)\n",
    "    from collections import Counter\n",
    "    return (isFirstWord, characters, Counter(characters))\n",
    "        "
   ]
  },
  {
   "cell_type": "code",
   "execution_count": 225,
   "metadata": {
    "collapsed": false
   },
   "outputs": [
    {
     "data": {
      "text/plain": [
       "(False, ['u', 'p', 'p', 'e', 'r'], Counter({'e': 1, 'p': 2, 'r': 1, 'u': 1}))"
      ]
     },
     "execution_count": 225,
     "metadata": {},
     "output_type": "execute_result"
    }
   ],
   "source": [
    "word(\"upper\")"
   ]
  },
  {
   "cell_type": "code",
   "execution_count": 230,
   "metadata": {
    "collapsed": false
   },
   "outputs": [],
   "source": [
    "type('U')\n",
    "import re"
   ]
  },
  {
   "cell_type": "code",
   "execution_count": 263,
   "metadata": {
    "collapsed": true
   },
   "outputs": [],
   "source": [
    "line = \"Hi, I am Rittick] Are you Emma?\""
   ]
  },
  {
   "cell_type": "code",
   "execution_count": 265,
   "metadata": {
    "collapsed": false
   },
   "outputs": [],
   "source": [
    "def getWords(line):\n",
    "    return re.findall(r\"[\\w']+\", line)"
   ]
  },
  {
   "cell_type": "code",
   "execution_count": 266,
   "metadata": {
    "collapsed": false
   },
   "outputs": [
    {
     "data": {
      "text/plain": [
       "['Hi', 'I', 'am', 'Rittick', 'Are', 'you', 'Emma']"
      ]
     },
     "execution_count": 266,
     "metadata": {},
     "output_type": "execute_result"
    }
   ],
   "source": [
    "getWords(line)"
   ]
  },
  {
   "cell_type": "code",
   "execution_count": 260,
   "metadata": {
    "collapsed": false
   },
   "outputs": [
    {
     "data": {
      "text/plain": [
       "['Hi, I am Rittick', ']', ' Are you Emma', '!', '']"
      ]
     },
     "execution_count": 260,
     "metadata": {},
     "output_type": "execute_result"
    }
   ],
   "source": [
    "re.split(r'(\\?+|!+|]+)', line)"
   ]
  },
  {
   "cell_type": "code",
   "execution_count": 261,
   "metadata": {
    "collapsed": true
   },
   "outputs": [],
   "source": [
    "def splitSentence(delimiters, line):\n",
    "    return re.split(delimiters, line)"
   ]
  },
  {
   "cell_type": "code",
   "execution_count": 264,
   "metadata": {
    "collapsed": false
   },
   "outputs": [
    {
     "data": {
      "text/plain": [
       "['Hi', ',', ' I am Rittick', ']', ' Are you Emma', '?', '']"
      ]
     },
     "execution_count": 264,
     "metadata": {},
     "output_type": "execute_result"
    }
   ],
   "source": [
    "splitSentence(r'(\\?+|!+|,+|]+)', line)"
   ]
  },
  {
   "cell_type": "code",
   "execution_count": null,
   "metadata": {
    "collapsed": true
   },
   "outputs": [],
   "source": []
  }
 ],
 "metadata": {
  "kernelspec": {
   "display_name": "Python 3",
   "language": "python",
   "name": "python3"
  },
  "language_info": {
   "codemirror_mode": {
    "name": "ipython",
    "version": 3
   },
   "file_extension": ".py",
   "mimetype": "text/x-python",
   "name": "python",
   "nbconvert_exporter": "python",
   "pygments_lexer": "ipython3",
   "version": "3.5.1"
  }
 },
 "nbformat": 4,
 "nbformat_minor": 0
}
