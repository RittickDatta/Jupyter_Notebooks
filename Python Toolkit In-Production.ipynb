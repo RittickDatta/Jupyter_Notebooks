{
 "cells": [
  {
   "cell_type": "code",
   "execution_count": 5,
   "metadata": {
    "collapsed": true
   },
   "outputs": [],
   "source": [
    "import sys"
   ]
  },
  {
   "cell_type": "code",
   "execution_count": 6,
   "metadata": {
    "collapsed": true
   },
   "outputs": [],
   "source": [
    "import os"
   ]
  },
  {
   "cell_type": "code",
   "execution_count": 7,
   "metadata": {
    "collapsed": true
   },
   "outputs": [],
   "source": [
    "import glob"
   ]
  },
  {
   "cell_type": "code",
   "execution_count": 8,
   "metadata": {
    "collapsed": false
   },
   "outputs": [],
   "source": [
    "def getFileAndDirectoryNames(location = os.getcwd()):\n",
    "    path = location\n",
    "    fileArray = []\n",
    "    directoryArray = []\n",
    "    directoryLocations = []\n",
    "\n",
    "    for file in next(os.walk(path))[2]:\n",
    "        fileArray.append(file)\n",
    "\n",
    "    for directory in next(os.walk(path))[1]:\n",
    "        directoryArray.append(directory)\n",
    "        directoryLocations.append(path+\"//\"+directory)\n",
    "\n",
    "    print(\"FILES----------------------\")\n",
    "    for file in fileArray:\n",
    "        print(file)\n",
    "\n",
    "    print()\n",
    "    print(\"DIRECTORIES----------------\")\n",
    "    for directory in directoryArray:\n",
    "        print(directory)\n",
    "    print(\"---------------------------------------------------------------------\")\n",
    "        \n",
    "    return (fileArray, directoryArray, directoryLocations)"
   ]
  },
  {
   "cell_type": "code",
   "execution_count": 9,
   "metadata": {
    "collapsed": false
   },
   "outputs": [
    {
     "name": "stdout",
     "output_type": "stream",
     "text": [
      "FILES----------------------\n",
      "File.txt\n",
      "\n",
      "DIRECTORIES----------------\n",
      "Folder\n",
      "---------------------------------------------------------------------\n"
     ]
    }
   ],
   "source": [
    "(fileArray, directoryArray, directoryLocations) = getFileAndDirectoryNames(\"C://Users//Rittick//Documents//Jupyter_notebooks//Sample\")"
   ]
  },
  {
   "cell_type": "code",
   "execution_count": 10,
   "metadata": {
    "collapsed": false
   },
   "outputs": [
    {
     "data": {
      "text/plain": [
       "['File.txt']"
      ]
     },
     "execution_count": 10,
     "metadata": {},
     "output_type": "execute_result"
    }
   ],
   "source": [
    "fileArray"
   ]
  },
  {
   "cell_type": "code",
   "execution_count": 11,
   "metadata": {
    "collapsed": false
   },
   "outputs": [
    {
     "data": {
      "text/plain": [
       "['Folder']"
      ]
     },
     "execution_count": 11,
     "metadata": {},
     "output_type": "execute_result"
    }
   ],
   "source": [
    "directoryArray"
   ]
  },
  {
   "cell_type": "code",
   "execution_count": 12,
   "metadata": {
    "collapsed": false,
    "scrolled": true
   },
   "outputs": [
    {
     "data": {
      "text/plain": [
       "['C://Users//Rittick//Documents//Jupyter_notebooks//Sample//Folder']"
      ]
     },
     "execution_count": 12,
     "metadata": {},
     "output_type": "execute_result"
    }
   ],
   "source": [
    "directoryLocations"
   ]
  },
  {
   "cell_type": "code",
   "execution_count": 13,
   "metadata": {
    "collapsed": false
   },
   "outputs": [],
   "source": [
    "def getSubDirectoryFilesAndDirectories(directoryLocations):\n",
    "    for location in directoryLocations:\n",
    "        print(location)\n",
    "        getFileAndDirectoryNames(location)"
   ]
  },
  {
   "cell_type": "code",
   "execution_count": 14,
   "metadata": {
    "collapsed": false
   },
   "outputs": [
    {
     "name": "stdout",
     "output_type": "stream",
     "text": [
      "C://Users//Rittick//Documents//Jupyter_notebooks//Sample//Folder\n",
      "FILES----------------------\n",
      "File.txt\n",
      "\n",
      "DIRECTORIES----------------\n",
      "---------------------------------------------------------------------\n"
     ]
    }
   ],
   "source": [
    "getSubDirectoryFilesAndDirectories(directoryLocations)"
   ]
  },
  {
   "cell_type": "code",
   "execution_count": 15,
   "metadata": {
    "collapsed": false
   },
   "outputs": [],
   "source": [
    "fileArray = [\"file.txt\", \"file.doc\",\"file.doc\", \"file.html\", \"file.xlsx\"]"
   ]
  },
  {
   "cell_type": "code",
   "execution_count": 16,
   "metadata": {
    "collapsed": true
   },
   "outputs": [],
   "source": [
    "from collections import Counter"
   ]
  },
  {
   "cell_type": "code",
   "execution_count": 17,
   "metadata": {
    "collapsed": true
   },
   "outputs": [],
   "source": [
    "def getFileTypes(fileArray):\n",
    "    fileTypes = []\n",
    "    for file in fileArray:\n",
    "        extension = file.split(\".\")[1]\n",
    "        fileTypes.append(extension)\n",
    "    return fileTypes"
   ]
  },
  {
   "cell_type": "code",
   "execution_count": 18,
   "metadata": {
    "collapsed": false
   },
   "outputs": [],
   "source": [
    "fileTypes = getFileTypes(fileArray)"
   ]
  },
  {
   "cell_type": "code",
   "execution_count": 19,
   "metadata": {
    "collapsed": true
   },
   "outputs": [],
   "source": [
    "def getFileCounts(fileTypes):\n",
    "    return Counter(fileTypes)"
   ]
  },
  {
   "cell_type": "code",
   "execution_count": 20,
   "metadata": {
    "collapsed": false
   },
   "outputs": [
    {
     "data": {
      "text/plain": [
       "Counter({'file.doc': 2, 'file.html': 1, 'file.txt': 1, 'file.xlsx': 1})"
      ]
     },
     "execution_count": 20,
     "metadata": {},
     "output_type": "execute_result"
    }
   ],
   "source": [
    "getFileCounts(fileArray)"
   ]
  },
  {
   "cell_type": "code",
   "execution_count": 21,
   "metadata": {
    "collapsed": false
   },
   "outputs": [],
   "source": [
    "def readFile_LineByLine(fileName):    \n",
    "    with open(fileName, 'r') as file:\n",
    "        for line in file:\n",
    "            print(line)"
   ]
  },
  {
   "cell_type": "code",
   "execution_count": 22,
   "metadata": {
    "collapsed": false
   },
   "outputs": [
    {
     "name": "stdout",
     "output_type": "stream",
     "text": [
      "Text appended, now closing.Text appended, now closing.\n"
     ]
    }
   ],
   "source": [
    "readFile_LineByLine(\"file12.txt\")"
   ]
  },
  {
   "cell_type": "code",
   "execution_count": 23,
   "metadata": {
    "collapsed": true
   },
   "outputs": [],
   "source": [
    "def readFiles(fileList):\n",
    "    for file in fileList:\n",
    "        readFileLineByLine(file)"
   ]
  },
  {
   "cell_type": "code",
   "execution_count": 24,
   "metadata": {
    "collapsed": false
   },
   "outputs": [
    {
     "ename": "NameError",
     "evalue": "name 'readFileLineByLine' is not defined",
     "output_type": "error",
     "traceback": [
      "\u001b[1;31m---------------------------------------------------------------------------\u001b[0m",
      "\u001b[1;31mNameError\u001b[0m                                 Traceback (most recent call last)",
      "\u001b[1;32m<ipython-input-24-20bf3006cd43>\u001b[0m in \u001b[0;36m<module>\u001b[1;34m()\u001b[0m\n\u001b[1;32m----> 1\u001b[1;33m \u001b[0mreadFiles\u001b[0m\u001b[1;33m(\u001b[0m\u001b[1;33m[\u001b[0m\u001b[1;34m\"file12.txt\"\u001b[0m\u001b[1;33m,\u001b[0m \u001b[1;34m\"Sample.txt\"\u001b[0m\u001b[1;33m]\u001b[0m\u001b[1;33m)\u001b[0m\u001b[1;33m\u001b[0m\u001b[0m\n\u001b[0m",
      "\u001b[1;32m<ipython-input-23-23be75c8e27a>\u001b[0m in \u001b[0;36mreadFiles\u001b[1;34m(fileList)\u001b[0m\n\u001b[0;32m      1\u001b[0m \u001b[1;32mdef\u001b[0m \u001b[0mreadFiles\u001b[0m\u001b[1;33m(\u001b[0m\u001b[0mfileList\u001b[0m\u001b[1;33m)\u001b[0m\u001b[1;33m:\u001b[0m\u001b[1;33m\u001b[0m\u001b[0m\n\u001b[0;32m      2\u001b[0m     \u001b[1;32mfor\u001b[0m \u001b[0mfile\u001b[0m \u001b[1;32min\u001b[0m \u001b[0mfileList\u001b[0m\u001b[1;33m:\u001b[0m\u001b[1;33m\u001b[0m\u001b[0m\n\u001b[1;32m----> 3\u001b[1;33m         \u001b[0mreadFileLineByLine\u001b[0m\u001b[1;33m(\u001b[0m\u001b[0mfile\u001b[0m\u001b[1;33m)\u001b[0m\u001b[1;33m\u001b[0m\u001b[0m\n\u001b[0m",
      "\u001b[1;31mNameError\u001b[0m: name 'readFileLineByLine' is not defined"
     ]
    }
   ],
   "source": [
    "readFiles([\"file12.txt\", \"Sample.txt\"])"
   ]
  },
  {
   "cell_type": "code",
   "execution_count": null,
   "metadata": {
    "collapsed": true
   },
   "outputs": [],
   "source": [
    "def openWriteClose(fileName):\n",
    "    with open(fileName, 'w') as file:\n",
    "        file.write(\"New text written, now closing.\")"
   ]
  },
  {
   "cell_type": "code",
   "execution_count": null,
   "metadata": {
    "collapsed": true
   },
   "outputs": [],
   "source": [
    "openWriteClose(\"file12.txt\")"
   ]
  },
  {
   "cell_type": "code",
   "execution_count": null,
   "metadata": {
    "collapsed": true
   },
   "outputs": [],
   "source": [
    "def openAppendClose(fileName):\n",
    "    with open(fileName, 'a') as file:\n",
    "        file.write(\"Text appended, now closing.\")"
   ]
  },
  {
   "cell_type": "code",
   "execution_count": null,
   "metadata": {
    "collapsed": true
   },
   "outputs": [],
   "source": [
    "openAppendClose(\"file12.txt\")"
   ]
  },
  {
   "cell_type": "code",
   "execution_count": null,
   "metadata": {
    "collapsed": true
   },
   "outputs": [],
   "source": [
    "def openReadAll(fileName):\n",
    "    with open(fileName, 'r') as file:\n",
    "        return file.readlines()"
   ]
  },
  {
   "cell_type": "code",
   "execution_count": null,
   "metadata": {
    "collapsed": false
   },
   "outputs": [],
   "source": [
    "allLines = openReadAll(\"Sample.txt\")"
   ]
  },
  {
   "cell_type": "code",
   "execution_count": null,
   "metadata": {
    "collapsed": true
   },
   "outputs": [],
   "source": [
    "def appendAllLinesInFile(Lines):\n",
    "    allLines = ''\n",
    "    for line in Lines:\n",
    "        allLines += line.rstrip() +\" \"\n",
    "    return allLines.rstrip()"
   ]
  },
  {
   "cell_type": "code",
   "execution_count": null,
   "metadata": {
    "collapsed": false
   },
   "outputs": [],
   "source": [
    "allText = appendAllLinesInFile(allLines)"
   ]
  },
  {
   "cell_type": "code",
   "execution_count": null,
   "metadata": {
    "collapsed": false
   },
   "outputs": [],
   "source": [
    "len(allText)"
   ]
  },
  {
   "cell_type": "code",
   "execution_count": null,
   "metadata": {
    "collapsed": false
   },
   "outputs": [],
   "source": [
    "str(allText)"
   ]
  },
  {
   "cell_type": "code",
   "execution_count": null,
   "metadata": {
    "collapsed": true
   },
   "outputs": [],
   "source": [
    "def fileWordFrequency(text):\n",
    "    wordList = text.split(\" \")\n",
    "    return Counter(wordList)"
   ]
  },
  {
   "cell_type": "code",
   "execution_count": null,
   "metadata": {
    "collapsed": false
   },
   "outputs": [],
   "source": [
    "wordFrequency = fileWordFrequency(allText)"
   ]
  },
  {
   "cell_type": "code",
   "execution_count": null,
   "metadata": {
    "collapsed": false
   },
   "outputs": [],
   "source": [
    "type(wordFrequency)"
   ]
  },
  {
   "cell_type": "code",
   "execution_count": null,
   "metadata": {
    "collapsed": false
   },
   "outputs": [],
   "source": [
    "def fileCountLines(fileName):\n",
    "    lines = 0\n",
    "    with open(fileName, 'r') as file:\n",
    "        for line in file:\n",
    "            lines += 1\n",
    "    print(lines)"
   ]
  },
  {
   "cell_type": "code",
   "execution_count": null,
   "metadata": {
    "collapsed": false
   },
   "outputs": [],
   "source": [
    "fileCountLines(\"Sample.txt\")"
   ]
  },
  {
   "cell_type": "code",
   "execution_count": null,
   "metadata": {
    "collapsed": false
   },
   "outputs": [],
   "source": [
    "file = os.stat(\"File12.txt\")"
   ]
  },
  {
   "cell_type": "code",
   "execution_count": null,
   "metadata": {
    "collapsed": false
   },
   "outputs": [],
   "source": [
    "file.st_size"
   ]
  },
  {
   "cell_type": "code",
   "execution_count": null,
   "metadata": {
    "collapsed": false
   },
   "outputs": [],
   "source": [
    "file.st_atime"
   ]
  },
  {
   "cell_type": "code",
   "execution_count": null,
   "metadata": {
    "collapsed": true
   },
   "outputs": [],
   "source": [
    "import datetime\n",
    "import time"
   ]
  },
  {
   "cell_type": "code",
   "execution_count": null,
   "metadata": {
    "collapsed": false
   },
   "outputs": [],
   "source": [
    "creationTime = time.ctime(file.st_ctime)"
   ]
  },
  {
   "cell_type": "code",
   "execution_count": null,
   "metadata": {
    "collapsed": false
   },
   "outputs": [],
   "source": [
    "creationTime"
   ]
  },
  {
   "cell_type": "code",
   "execution_count": null,
   "metadata": {
    "collapsed": false
   },
   "outputs": [],
   "source": [
    "modificationTime =time.ctime(file.st_mtime)"
   ]
  },
  {
   "cell_type": "code",
   "execution_count": null,
   "metadata": {
    "collapsed": false
   },
   "outputs": [],
   "source": [
    "def getCreationModificationSizeOwnershipInfo(file):\n",
    "    creation_time = time.ctime(file.st_ctime)\n",
    "    modification_time = time.ctime(file.st_mtime)\n",
    "    fileSize = file.st_size\n",
    "    authorID = file.st_uid\n",
    "    groupID = file.st_gid\n",
    "    \n",
    "    print(\"User ID of file creator: \"+str(authorID))\n",
    "    print(\"Group ID of user: \"+str(groupID))\n",
    "    print(\"File size is: \"+str(fileSize) + \" bytes\")\n",
    "    print(\"File was created at:       \"+creation_time)\n",
    "    print(\"File was last modified at: \"+modification_time)\n",
    "    \n",
    "    creation_time = datetime.datetime.strptime(creationTime, \"%a %b %d %H:%M:%S %Y\")\n",
    "    modification_Time = datetime.datetime.strptime(modificationTime, \"%a %b %d %H:%M:%S %Y\")\n",
    "    \n",
    "    timeDifferenceFromCreation = modification_Time - creation_time\n",
    "    print(\"The file was modified \"+str(timeDifferenceFromCreation.seconds)+\" seconds after creation.\")\n",
    "    timeDifferenceFromNow = datetime.datetime.now() - modification_Time\n",
    "    print(\"The file was modified \"+str(round((timeDifferenceFromNow.seconds/60)/60))+\" hours ago from now.\")"
   ]
  },
  {
   "cell_type": "code",
   "execution_count": null,
   "metadata": {
    "collapsed": false
   },
   "outputs": [],
   "source": [
    "getCreationModificationSizeOwnershipInfo(file)"
   ]
  },
  {
   "cell_type": "code",
   "execution_count": null,
   "metadata": {
    "collapsed": false
   },
   "outputs": [],
   "source": [
    "creation_time = datetime.datetime.strptime(creationTime, \"%a %b %d %H:%M:%S %Y\")"
   ]
  },
  {
   "cell_type": "code",
   "execution_count": null,
   "metadata": {
    "collapsed": false
   },
   "outputs": [],
   "source": [
    "modification_Time = datetime.datetime.strptime(modificationTime, \"%a %b %d %H:%M:%S %Y\")"
   ]
  },
  {
   "cell_type": "code",
   "execution_count": null,
   "metadata": {
    "collapsed": false
   },
   "outputs": [],
   "source": [
    "creation_time"
   ]
  },
  {
   "cell_type": "code",
   "execution_count": null,
   "metadata": {
    "collapsed": false
   },
   "outputs": [],
   "source": [
    "modification_Time"
   ]
  },
  {
   "cell_type": "code",
   "execution_count": null,
   "metadata": {
    "collapsed": false
   },
   "outputs": [],
   "source": [
    "modification_Time - creation_time"
   ]
  },
  {
   "cell_type": "code",
   "execution_count": null,
   "metadata": {
    "collapsed": false
   },
   "outputs": [],
   "source": [
    "time1 = datetime.datetime.now()"
   ]
  },
  {
   "cell_type": "code",
   "execution_count": null,
   "metadata": {
    "collapsed": false
   },
   "outputs": [],
   "source": [
    "time2 = datetime.datetime.now()"
   ]
  },
  {
   "cell_type": "code",
   "execution_count": null,
   "metadata": {
    "collapsed": false
   },
   "outputs": [],
   "source": [
    "time1\n"
   ]
  },
  {
   "cell_type": "code",
   "execution_count": null,
   "metadata": {
    "collapsed": false
   },
   "outputs": [],
   "source": [
    "time2"
   ]
  },
  {
   "cell_type": "code",
   "execution_count": null,
   "metadata": {
    "collapsed": false
   },
   "outputs": [],
   "source": [
    "t = time2 - time1"
   ]
  },
  {
   "cell_type": "code",
   "execution_count": null,
   "metadata": {
    "collapsed": false
   },
   "outputs": [],
   "source": [
    "t"
   ]
  },
  {
   "cell_type": "code",
   "execution_count": null,
   "metadata": {
    "collapsed": false
   },
   "outputs": [],
   "source": [
    "t.seconds"
   ]
  },
  {
   "cell_type": "code",
   "execution_count": null,
   "metadata": {
    "collapsed": false
   },
   "outputs": [],
   "source": [
    "t.microseconds"
   ]
  },
  {
   "cell_type": "code",
   "execution_count": null,
   "metadata": {
    "collapsed": true
   },
   "outputs": [],
   "source": [
    "def getDuration(time1, time2):\n",
    "    time1 = datetime.datetime.strptime(time1, \"%a %b %d %H:%M:%S %Y\")\n",
    "    time2 = datetime.datetime.strptime(time2, \"%a %b %d %H:%M:%S %Y\")\n",
    "    \n",
    "    timeDict = {}\n",
    "    \n",
    "    duration = time2 - time1\n",
    "    seconds = duration.seconds\n",
    "    minutes = seconds / 60\n",
    "    hours = minutes / 60\n",
    "    days = hours / 24\n",
    "    months = days / 30\n",
    "    years = months / 365\n",
    "    \n",
    "    timeDict['seconds'] = seconds\n",
    "    timeDict['minutes'] = minutes\n",
    "    timeDict['hours'] = hours\n",
    "    timeDict['days'] = days\n",
    "    timeDict['months'] = months\n",
    "    timeDict['years'] = years\n",
    "    \n",
    "    \n",
    "    return timeDict"
   ]
  },
  {
   "cell_type": "code",
   "execution_count": null,
   "metadata": {
    "collapsed": false
   },
   "outputs": [],
   "source": [
    "getDuration(creationTime, modificationTime)"
   ]
  },
  {
   "cell_type": "code",
   "execution_count": null,
   "metadata": {
    "collapsed": true
   },
   "outputs": [],
   "source": [
    "def word(word):\n",
    "    characters = []\n",
    "    isFirstWord = False\n",
    "    checkOnce = 0\n",
    "    for letter in word:\n",
    "        if checkOnce == 0:\n",
    "            checkOnce += 1\n",
    "            if letter.isupper():\n",
    "                isFirstWord = True\n",
    "        characters.append(letter)\n",
    "    from collections import Counter\n",
    "    return (isFirstWord, characters, Counter(characters))\n",
    "        "
   ]
  },
  {
   "cell_type": "code",
   "execution_count": null,
   "metadata": {
    "collapsed": false
   },
   "outputs": [],
   "source": [
    "word(\"upper\")"
   ]
  },
  {
   "cell_type": "code",
   "execution_count": null,
   "metadata": {
    "collapsed": false
   },
   "outputs": [],
   "source": [
    "type('U')\n",
    "import re"
   ]
  },
  {
   "cell_type": "code",
   "execution_count": null,
   "metadata": {
    "collapsed": true
   },
   "outputs": [],
   "source": [
    "line = \"Hi, I am Rittick] Are you Emma?\""
   ]
  },
  {
   "cell_type": "code",
   "execution_count": null,
   "metadata": {
    "collapsed": false
   },
   "outputs": [],
   "source": [
    "def getWords(line):\n",
    "    return re.findall(r\"[\\w']+\", line)"
   ]
  },
  {
   "cell_type": "code",
   "execution_count": null,
   "metadata": {
    "collapsed": false
   },
   "outputs": [],
   "source": [
    "getWords(line)"
   ]
  },
  {
   "cell_type": "code",
   "execution_count": null,
   "metadata": {
    "collapsed": false
   },
   "outputs": [],
   "source": [
    "re.split(r'(\\?+|!+|]+)', line)"
   ]
  },
  {
   "cell_type": "code",
   "execution_count": null,
   "metadata": {
    "collapsed": true
   },
   "outputs": [],
   "source": [
    "def splitSentence(delimiters, line):\n",
    "    return re.split(delimiters, line)"
   ]
  },
  {
   "cell_type": "code",
   "execution_count": null,
   "metadata": {
    "collapsed": false
   },
   "outputs": [],
   "source": [
    "splitSentence(r'(\\?+|!+|,+|]+)', line)"
   ]
  },
  {
   "cell_type": "code",
   "execution_count": null,
   "metadata": {
    "collapsed": false
   },
   "outputs": [],
   "source": [
    "def findNumbers(line):\n",
    "    import re\n",
    "    re.findall(r'\\d+',line)"
   ]
  },
  {
   "cell_type": "code",
   "execution_count": null,
   "metadata": {
    "collapsed": false
   },
   "outputs": [],
   "source": [
    "findNumbers(\"Hi Rittick! I am 26 yr old.\")"
   ]
  },
  {
   "cell_type": "code",
   "execution_count": null,
   "metadata": {
    "collapsed": false
   },
   "outputs": [],
   "source": [
    "import re\n",
    "line = \"Last Checkpoint: a, day ago\"\n",
    "re.findall(r\"[\\W']+\", line)"
   ]
  },
  {
   "cell_type": "code",
   "execution_count": null,
   "metadata": {
    "collapsed": true
   },
   "outputs": [],
   "source": [
    "def getWordsAndNumbers(line):\n",
    "    words = re.findall(r\"[a-zA-Z]+\", line)\n",
    "    numbers = re.findall(r\"[\\d]+\", line)\n",
    "    return (words, numbers)"
   ]
  },
  {
   "cell_type": "code",
   "execution_count": null,
   "metadata": {
    "collapsed": false
   },
   "outputs": [],
   "source": [
    "getWordsAndNumbers(\"word1 word2 12 12\")"
   ]
  },
  {
   "cell_type": "code",
   "execution_count": null,
   "metadata": {
    "collapsed": true
   },
   "outputs": [],
   "source": [
    "def doNotGetWordsAndNumbers(line):\n",
    "    nonAlphaNumeric = re.findall(r\"[\\s,.;-]+\", line)\n",
    "    return (nonAlphaNumeric, len(nonAlphaNumeric))"
   ]
  },
  {
   "cell_type": "code",
   "execution_count": null,
   "metadata": {
    "collapsed": false
   },
   "outputs": [],
   "source": [
    "doNotGetWordsAndNumbers(\"Hi, I am Rittick!\")"
   ]
  },
  {
   "cell_type": "code",
   "execution_count": null,
   "metadata": {
    "collapsed": true
   },
   "outputs": [],
   "source": [
    "sentence = \"Hi, I; am? -Rittick. Why...\""
   ]
  },
  {
   "cell_type": "code",
   "execution_count": null,
   "metadata": {
    "collapsed": false
   },
   "outputs": [],
   "source": [
    "sentence.index('k')"
   ]
  },
  {
   "cell_type": "code",
   "execution_count": null,
   "metadata": {
    "collapsed": true
   },
   "outputs": [],
   "source": [
    "punctuation = [',',';','.','!','?','-']"
   ]
  },
  {
   "cell_type": "code",
   "execution_count": null,
   "metadata": {
    "collapsed": false
   },
   "outputs": [],
   "source": [
    "nonAlphaNumericList = [(ch, sentence.index(ch)) for ch in sentence if ch in punctuation]"
   ]
  },
  {
   "cell_type": "code",
   "execution_count": null,
   "metadata": {
    "collapsed": false
   },
   "outputs": [],
   "source": [
    "from collections import Counter\n",
    "Counter(nonAlphaNumericList)"
   ]
  },
  {
   "cell_type": "code",
   "execution_count": null,
   "metadata": {
    "collapsed": true
   },
   "outputs": [],
   "source": [
    "counterObj = Counter(nonAlphaNumericList)"
   ]
  },
  {
   "cell_type": "code",
   "execution_count": null,
   "metadata": {
    "collapsed": false
   },
   "outputs": [],
   "source": [
    "type(counterObj)"
   ]
  },
  {
   "cell_type": "code",
   "execution_count": null,
   "metadata": {
    "collapsed": false
   },
   "outputs": [],
   "source": [
    "for k, v in counterObj.most_common():\n",
    "    print(k)"
   ]
  },
  {
   "cell_type": "code",
   "execution_count": null,
   "metadata": {
    "collapsed": true
   },
   "outputs": [],
   "source": [
    "def getPunctuations(line):\n",
    "    from collections import Counter\n",
    "    punctuation = [',',';','.','!','?','-',':']\n",
    "    punctuationList = [(ch, line.index(ch)) for ch in line if ch in punctuation]\n",
    "    counterObj = Counter(punctuationList)\n",
    "    return counterObj.most_common()"
   ]
  },
  {
   "cell_type": "code",
   "execution_count": null,
   "metadata": {
    "collapsed": false
   },
   "outputs": [],
   "source": [
    "getPunctuations(\"Hi, ,Hello! What??? Seriously-\")"
   ]
  },
  {
   "cell_type": "code",
   "execution_count": null,
   "metadata": {
    "collapsed": true
   },
   "outputs": [],
   "source": [
    "from nltk.corpus import stopwords"
   ]
  },
  {
   "cell_type": "code",
   "execution_count": null,
   "metadata": {
    "collapsed": false
   },
   "outputs": [],
   "source": [
    "stop_words = set(stopwords.words('english'))"
   ]
  },
  {
   "cell_type": "code",
   "execution_count": null,
   "metadata": {
    "collapsed": false
   },
   "outputs": [],
   "source": [
    "type(stopwords)"
   ]
  },
  {
   "cell_type": "code",
   "execution_count": null,
   "metadata": {
    "collapsed": true
   },
   "outputs": [],
   "source": [
    "from nltk.tokenize import sent_tokenize, word_tokenize"
   ]
  },
  {
   "cell_type": "code",
   "execution_count": null,
   "metadata": {
    "collapsed": false
   },
   "outputs": [],
   "source": [
    "help(sent_tokenize)"
   ]
  },
  {
   "cell_type": "code",
   "execution_count": null,
   "metadata": {
    "collapsed": false
   },
   "outputs": [],
   "source": [
    "sent_tokenize(\"Hi I am Rittick. I live in Irvine. Do you live in Irvine?\")"
   ]
  },
  {
   "cell_type": "code",
   "execution_count": null,
   "metadata": {
    "collapsed": false
   },
   "outputs": [],
   "source": [
    "filteredWords = []\n",
    "for sent in sent_tokenize(\"Hi I am Rittick. I live in Irvine. Do you live in Irvine?\"):\n",
    "    words = word_tokenize(sent)\n",
    "    for word in list(words):\n",
    "        if word not in stopwords.words():\n",
    "            filteredWords.append(word)\n",
    "print(filteredWords)"
   ]
  },
  {
   "cell_type": "code",
   "execution_count": null,
   "metadata": {
    "collapsed": false
   },
   "outputs": [],
   "source": [
    "'I' in stopwords.words()"
   ]
  },
  {
   "cell_type": "code",
   "execution_count": null,
   "metadata": {
    "collapsed": true
   },
   "outputs": [],
   "source": [
    "def getTextFromFile(file):\n",
    "    with open(file, 'r') as document:\n",
    "        return str(document.readlines())"
   ]
  },
  {
   "cell_type": "code",
   "execution_count": null,
   "metadata": {
    "collapsed": false
   },
   "outputs": [],
   "source": [
    "allText = getTextFromFile(\"file1.txt\")"
   ]
  },
  {
   "cell_type": "code",
   "execution_count": null,
   "metadata": {
    "collapsed": false
   },
   "outputs": [],
   "source": [
    "type(allText)\n",
    "len(allText)\n",
    "allText"
   ]
  },
  {
   "cell_type": "code",
   "execution_count": null,
   "metadata": {
    "collapsed": false
   },
   "outputs": [],
   "source": [
    "allText"
   ]
  },
  {
   "cell_type": "code",
   "execution_count": null,
   "metadata": {
    "collapsed": true
   },
   "outputs": [],
   "source": [
    "def getSentencesFromText(text):\n",
    "    sentences = []\n",
    "    for sentence in sent_tokenize(text):\n",
    "        sentences.append(sentence)\n",
    "    return sentences"
   ]
  },
  {
   "cell_type": "code",
   "execution_count": null,
   "metadata": {
    "collapsed": false
   },
   "outputs": [],
   "source": [
    "allSentences = getSentencesFromText(allText)"
   ]
  },
  {
   "cell_type": "code",
   "execution_count": null,
   "metadata": {
    "collapsed": false
   },
   "outputs": [],
   "source": [
    "type(allSentences)"
   ]
  },
  {
   "cell_type": "code",
   "execution_count": null,
   "metadata": {
    "collapsed": false
   },
   "outputs": [],
   "source": [
    "for sentence in allSentences:\n",
    "    print (sentence)"
   ]
  },
  {
   "cell_type": "code",
   "execution_count": null,
   "metadata": {
    "collapsed": false
   },
   "outputs": [],
   "source": [
    "type(allSentences[0])"
   ]
  },
  {
   "cell_type": "code",
   "execution_count": null,
   "metadata": {
    "collapsed": true
   },
   "outputs": [],
   "source": [
    "def getWordsFromSentences(allSentences):\n",
    "    words = []\n",
    "    for sentence in allSentences:\n",
    "        for word in word_tokenize(sentence):\n",
    "            words.append(word)\n",
    "    print(words, len(words))\n",
    "    wordsFiltered = []\n",
    "    for word in words:\n",
    "        if word not in stopwords.words():\n",
    "            wordsFiltered.append(word)\n",
    "    print(wordsFiltered, len(wordsFiltered))\n",
    "    return (words, wordsFiltered)"
   ]
  },
  {
   "cell_type": "code",
   "execution_count": null,
   "metadata": {
    "collapsed": false
   },
   "outputs": [],
   "source": [
    "getWordsFromSentences(allSentences)"
   ]
  },
  {
   "cell_type": "code",
   "execution_count": null,
   "metadata": {
    "collapsed": false
   },
   "outputs": [],
   "source": [
    "import nltk\n",
    "\n"
   ]
  },
  {
   "cell_type": "code",
   "execution_count": null,
   "metadata": {
    "collapsed": false
   },
   "outputs": [],
   "source": [
    "text = nltk.word_tokenize(\"And now for something completely different\")"
   ]
  },
  {
   "cell_type": "code",
   "execution_count": null,
   "metadata": {
    "collapsed": false
   },
   "outputs": [],
   "source": [
    "nltk.pos_tag(text)"
   ]
  },
  {
   "cell_type": "code",
   "execution_count": null,
   "metadata": {
    "collapsed": false
   },
   "outputs": [],
   "source": [
    "for word, pos in nltk.pos_tag(text):\n",
    "    print(word, pos)"
   ]
  },
  {
   "cell_type": "code",
   "execution_count": null,
   "metadata": {
    "collapsed": true
   },
   "outputs": [],
   "source": [
    "line = \"Hi I am Rittick. I live in Irvine. Do you live in Irvine?\""
   ]
  },
  {
   "cell_type": "code",
   "execution_count": null,
   "metadata": {
    "collapsed": false
   },
   "outputs": [],
   "source": [
    "for pos in nltk.pos_tag(text):\n",
    "    print(pos[1])"
   ]
  },
  {
   "cell_type": "code",
   "execution_count": null,
   "metadata": {
    "collapsed": true
   },
   "outputs": [],
   "source": [
    "def getPartOfSpeech(line):\n",
    "    import nltk\n",
    "    from collections import Counter\n",
    "    posList = []\n",
    "    for pos in nltk.pos_tag(nltk.word_tokenize(line)):\n",
    "        posList.append(pos)\n",
    "    return(posList, Counter(posList))"
   ]
  },
  {
   "cell_type": "code",
   "execution_count": null,
   "metadata": {
    "collapsed": false
   },
   "outputs": [],
   "source": [
    "posList, posCount = getPartOfSpeech(line)"
   ]
  },
  {
   "cell_type": "code",
   "execution_count": null,
   "metadata": {
    "collapsed": false
   },
   "outputs": [],
   "source": [
    "posList"
   ]
  },
  {
   "cell_type": "code",
   "execution_count": null,
   "metadata": {
    "collapsed": false
   },
   "outputs": [],
   "source": [
    "posCount.most_common()[:5]"
   ]
  },
  {
   "cell_type": "code",
   "execution_count": null,
   "metadata": {
    "collapsed": true
   },
   "outputs": [],
   "source": [
    "def getPartOfSpeechInfoForFile(file):\n",
    "    with open(file, 'r') as document:\n",
    "        text = document.read()\n",
    "        filePOSInfo = {}\n",
    "        for index, sentence in enumerate(nltk.sent_tokenize(text)):\n",
    "            sentencePOSInfo = []\n",
    "            for pos in nltk.pos_tag(nltk.word_tokenize(str(sentence))):\n",
    "                sentencePOSInfo.append(pos)\n",
    "            filePOSInfo[index] = sentencePOSInfo\n",
    "        return(filePOSInfo)"
   ]
  },
  {
   "cell_type": "code",
   "execution_count": null,
   "metadata": {
    "collapsed": false
   },
   "outputs": [],
   "source": [
    "getPartOfSpeechInfoForFile('file1.txt')"
   ]
  },
  {
   "cell_type": "code",
   "execution_count": null,
   "metadata": {
    "collapsed": true
   },
   "outputs": [],
   "source": [
    "filePOSDict = getPartOfSpeechInfoForFile('file1.txt')"
   ]
  },
  {
   "cell_type": "code",
   "execution_count": null,
   "metadata": {
    "collapsed": false
   },
   "outputs": [],
   "source": [
    "def aggregateFilePOSInfo(filePOSDict):\n",
    "    from collections import Counter\n",
    "    for k,v in filePOSDict.items():\n",
    "        filePOSDict[k] = Counter(v)\n",
    "    return filePOSDict"
   ]
  },
  {
   "cell_type": "code",
   "execution_count": null,
   "metadata": {
    "collapsed": false
   },
   "outputs": [],
   "source": [
    "aggregateFilePOSInfo(filePOSDict)"
   ]
  },
  {
   "cell_type": "code",
   "execution_count": null,
   "metadata": {
    "collapsed": true
   },
   "outputs": [],
   "source": [
    "FilePOSInfo = getPartOfSpeechInfoForFile('file1.txt')"
   ]
  },
  {
   "cell_type": "code",
   "execution_count": null,
   "metadata": {
    "collapsed": false
   },
   "outputs": [],
   "source": [
    "def getPOSDistributionInFile(POSDistibution):\n",
    "    POSDistibution = {}\n",
    "    for k, v in aggFilePOSInfo.items():\n",
    "\n",
    "        for k1, v1 in v.items():\n",
    "            if k1[1] != '.':\n",
    "                if k1[1] not in POSDistibution:\n",
    "                    POSDistibution[k1[1]] = 1\n",
    "                if k1[1] in POSDistibution:\n",
    "                    POSDistibution[k1[1]] += 1\n",
    "    return(  sorted(POSDistibution.items(), key=lambda x:x[1], reverse = True) )"
   ]
  },
  {
   "cell_type": "code",
   "execution_count": null,
   "metadata": {
    "collapsed": false
   },
   "outputs": [],
   "source": [
    "getPOSDistributionInFile(POSDistibution)"
   ]
  },
  {
   "cell_type": "code",
   "execution_count": null,
   "metadata": {
    "collapsed": false
   },
   "outputs": [],
   "source": [
    "POSDistributionInFile = getPOSDistributionInFile(POSDistibution)"
   ]
  },
  {
   "cell_type": "code",
   "execution_count": null,
   "metadata": {
    "collapsed": true
   },
   "outputs": [],
   "source": []
  }
 ],
 "metadata": {
  "kernelspec": {
   "display_name": "Python 3",
   "language": "python",
   "name": "python3"
  },
  "language_info": {
   "codemirror_mode": {
    "name": "ipython",
    "version": 3
   },
   "file_extension": ".py",
   "mimetype": "text/x-python",
   "name": "python",
   "nbconvert_exporter": "python",
   "pygments_lexer": "ipython3",
   "version": "3.5.1"
  }
 },
 "nbformat": 4,
 "nbformat_minor": 0
}
