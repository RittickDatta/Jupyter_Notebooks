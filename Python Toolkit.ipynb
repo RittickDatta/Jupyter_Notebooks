{
 "cells": [
  {
   "cell_type": "code",
   "execution_count": 1,
   "metadata": {
    "collapsed": true
   },
   "outputs": [],
   "source": [
    "import sys"
   ]
  },
  {
   "cell_type": "code",
   "execution_count": 2,
   "metadata": {
    "collapsed": true
   },
   "outputs": [],
   "source": [
    "import os"
   ]
  },
  {
   "cell_type": "code",
   "execution_count": 3,
   "metadata": {
    "collapsed": true
   },
   "outputs": [],
   "source": [
    "import glob"
   ]
  },
  {
   "cell_type": "code",
   "execution_count": 52,
   "metadata": {
    "collapsed": false
   },
   "outputs": [],
   "source": [
    "def getFileAndDirectoryNames():\n",
    "    path = os.getcwd()\n",
    "    fileArray = []\n",
    "    directoryArray = []\n",
    "\n",
    "    for file in next(os.walk(path))[2]:\n",
    "        fileArray.append(file)\n",
    "\n",
    "    for directory in next(os.walk(path))[1]:\n",
    "        directoryArray.append(directory)\n",
    "\n",
    "    print(\"FILES----------------------\")\n",
    "    for file in fileArray:\n",
    "        print(file)\n",
    "\n",
    "    print()\n",
    "    print(\"DIRECTORIES----------------\")\n",
    "    for directory in directoryArray:\n",
    "        print(directory)\n",
    "        \n",
    "    return fileArray, directoryArray"
   ]
  },
  {
   "cell_type": "code",
   "execution_count": 53,
   "metadata": {
    "collapsed": false
   },
   "outputs": [
    {
     "name": "stdout",
     "output_type": "stream",
     "text": [
      "FILES----------------------\n",
      "Consumer Complaint Exploration.ipynb\n",
      "Data Dot World Notebook.ipynb\n",
      "Hate Crimes.ipynb\n",
      "Police Department Map Exploration.ipynb\n",
      "Potholes Dataset Exploration.ipynb\n",
      "Python Functions.ipynb\n",
      "Python Toolkit.ipynb\n",
      "Python Warm-Up.ipynb\n",
      "README.md\n",
      "Red Light Camera Violations Exploration.ipynb\n",
      "Sample.txt\n",
      "Sci-py Warm-Up.ipynb\n",
      "Towed Vehicles Exploratory Analysis.ipynb\n",
      "\n",
      "DIRECTORIES----------------\n",
      ".git\n",
      ".ipynb_checkpoints\n",
      "Data\n",
      "Sample\n"
     ]
    }
   ],
   "source": [
    "fileArray, directoryArray = getFileAndDirectoryNames()"
   ]
  },
  {
   "cell_type": "code",
   "execution_count": 54,
   "metadata": {
    "collapsed": true
   },
   "outputs": [],
   "source": [
    "returnData"
   ]
  },
  {
   "cell_type": "code",
   "execution_count": null,
   "metadata": {
    "collapsed": true
   },
   "outputs": [],
   "source": []
  }
 ],
 "metadata": {
  "kernelspec": {
   "display_name": "Python 3",
   "language": "python",
   "name": "python3"
  },
  "language_info": {
   "codemirror_mode": {
    "name": "ipython",
    "version": 3
   },
   "file_extension": ".py",
   "mimetype": "text/x-python",
   "name": "python",
   "nbconvert_exporter": "python",
   "pygments_lexer": "ipython3",
   "version": "3.5.1"
  }
 },
 "nbformat": 4,
 "nbformat_minor": 0
}
