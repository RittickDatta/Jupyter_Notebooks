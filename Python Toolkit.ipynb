{
 "cells": [
  {
   "cell_type": "code",
   "execution_count": 1,
   "metadata": {
    "collapsed": true
   },
   "outputs": [],
   "source": [
    "import sys"
   ]
  },
  {
   "cell_type": "code",
   "execution_count": 2,
   "metadata": {
    "collapsed": true
   },
   "outputs": [],
   "source": [
    "import os"
   ]
  },
  {
   "cell_type": "code",
   "execution_count": 3,
   "metadata": {
    "collapsed": true
   },
   "outputs": [],
   "source": [
    "import glob"
   ]
  },
  {
   "cell_type": "code",
   "execution_count": 103,
   "metadata": {
    "collapsed": false
   },
   "outputs": [],
   "source": [
    "def getFileAndDirectoryNames(location = os.getcwd()):\n",
    "    path = location\n",
    "    fileArray = []\n",
    "    directoryArray = []\n",
    "    directoryLocations = []\n",
    "\n",
    "    for file in next(os.walk(path))[2]:\n",
    "        fileArray.append(file)\n",
    "\n",
    "    for directory in next(os.walk(path))[1]:\n",
    "        directoryArray.append(directory)\n",
    "        directoryLocations.append(path+\"//\"+directory)\n",
    "\n",
    "    print(\"FILES----------------------\")\n",
    "    for file in fileArray:\n",
    "        print(file)\n",
    "\n",
    "    print()\n",
    "    print(\"DIRECTORIES----------------\")\n",
    "    for directory in directoryArray:\n",
    "        print(directory)\n",
    "    print(\"---------------------------------------------------------------------\")\n",
    "        \n",
    "    return (fileArray, directoryArray, directoryLocations)"
   ]
  },
  {
   "cell_type": "code",
   "execution_count": 104,
   "metadata": {
    "collapsed": false
   },
   "outputs": [
    {
     "name": "stdout",
     "output_type": "stream",
     "text": [
      "FILES----------------------\n",
      "File.txt\n",
      "\n",
      "DIRECTORIES----------------\n",
      "Folder\n",
      "---------------------------------------------------------------------\n"
     ]
    }
   ],
   "source": [
    "(fileArray, directoryArray, directoryLocations) = getFileAndDirectoryNames(\"C://Users//Rittick//Documents//Jupyter_notebooks//Sample\")"
   ]
  },
  {
   "cell_type": "code",
   "execution_count": 105,
   "metadata": {
    "collapsed": false
   },
   "outputs": [
    {
     "data": {
      "text/plain": [
       "['File.txt']"
      ]
     },
     "execution_count": 105,
     "metadata": {},
     "output_type": "execute_result"
    }
   ],
   "source": [
    "fileArray"
   ]
  },
  {
   "cell_type": "code",
   "execution_count": 106,
   "metadata": {
    "collapsed": false
   },
   "outputs": [
    {
     "data": {
      "text/plain": [
       "['Folder']"
      ]
     },
     "execution_count": 106,
     "metadata": {},
     "output_type": "execute_result"
    }
   ],
   "source": [
    "directoryArray"
   ]
  },
  {
   "cell_type": "code",
   "execution_count": 107,
   "metadata": {
    "collapsed": false,
    "scrolled": true
   },
   "outputs": [
    {
     "data": {
      "text/plain": [
       "['C://Users//Rittick//Documents//Jupyter_notebooks//Sample//Folder']"
      ]
     },
     "execution_count": 107,
     "metadata": {},
     "output_type": "execute_result"
    }
   ],
   "source": [
    "directoryLocations"
   ]
  },
  {
   "cell_type": "code",
   "execution_count": 108,
   "metadata": {
    "collapsed": false
   },
   "outputs": [],
   "source": [
    "def getSubDirectoryFilesAndDirectories(directoryLocations):\n",
    "    for location in directoryLocations:\n",
    "        print(location)\n",
    "        getFileAndDirectoryNames(location)"
   ]
  },
  {
   "cell_type": "code",
   "execution_count": 109,
   "metadata": {
    "collapsed": false
   },
   "outputs": [
    {
     "name": "stdout",
     "output_type": "stream",
     "text": [
      "C://Users//Rittick//Documents//Jupyter_notebooks//Sample//Folder\n",
      "FILES----------------------\n",
      "File.txt\n",
      "\n",
      "DIRECTORIES----------------\n",
      "---------------------------------------------------------------------\n"
     ]
    }
   ],
   "source": [
    "getSubDirectoryFilesAndDirectories(directoryLocations)"
   ]
  },
  {
   "cell_type": "code",
   "execution_count": 116,
   "metadata": {
    "collapsed": false
   },
   "outputs": [],
   "source": [
    "fileArray = [\"file.txt\", \"file.doc\",\"file.doc\", \"file.html\", \"file.xlsx\"]"
   ]
  },
  {
   "cell_type": "code",
   "execution_count": 119,
   "metadata": {
    "collapsed": true
   },
   "outputs": [],
   "source": [
    "from collections import Counter"
   ]
  },
  {
   "cell_type": "code",
   "execution_count": 120,
   "metadata": {
    "collapsed": true
   },
   "outputs": [],
   "source": [
    "def getFileTypes(fileArray):\n",
    "    fileTypes = []\n",
    "    for file in fileArray:\n",
    "        extension = file.split(\".\")[1]\n",
    "        fileTypes.append(extension)\n",
    "    return fileTypes"
   ]
  },
  {
   "cell_type": "code",
   "execution_count": 121,
   "metadata": {
    "collapsed": false
   },
   "outputs": [
    {
     "data": {
      "text/plain": [
       "['txt', 'doc', 'doc', 'html', 'xlsx']"
      ]
     },
     "execution_count": 121,
     "metadata": {},
     "output_type": "execute_result"
    }
   ],
   "source": [
    "fileTypes = getFileTypes(fileArray)"
   ]
  },
  {
   "cell_type": "code",
   "execution_count": 122,
   "metadata": {
    "collapsed": true
   },
   "outputs": [],
   "source": [
    "def getFileCounts(fileTypes):\n",
    "    return Counter(fileTypes)"
   ]
  },
  {
   "cell_type": "code",
   "execution_count": 123,
   "metadata": {
    "collapsed": false
   },
   "outputs": [
    {
     "data": {
      "text/plain": [
       "Counter({'file.doc': 2, 'file.html': 1, 'file.txt': 1, 'file.xlsx': 1})"
      ]
     },
     "execution_count": 123,
     "metadata": {},
     "output_type": "execute_result"
    }
   ],
   "source": [
    "getFileCounts(fileArray)"
   ]
  },
  {
   "cell_type": "code",
   "execution_count": null,
   "metadata": {
    "collapsed": true
   },
   "outputs": [],
   "source": []
  }
 ],
 "metadata": {
  "kernelspec": {
   "display_name": "Python 3",
   "language": "python",
   "name": "python3"
  },
  "language_info": {
   "codemirror_mode": {
    "name": "ipython",
    "version": 3
   },
   "file_extension": ".py",
   "mimetype": "text/x-python",
   "name": "python",
   "nbconvert_exporter": "python",
   "pygments_lexer": "ipython3",
   "version": "3.5.1"
  }
 },
 "nbformat": 4,
 "nbformat_minor": 0
}
