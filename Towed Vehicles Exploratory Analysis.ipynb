{
 "cells": [
  {
   "cell_type": "code",
   "execution_count": 1,
   "metadata": {
    "collapsed": true
   },
   "outputs": [],
   "source": [
    "import pandas as pd"
   ]
  },
  {
   "cell_type": "code",
   "execution_count": 2,
   "metadata": {
    "collapsed": true
   },
   "outputs": [],
   "source": [
    "bike_data = pd.read_csv('CSV/Towed_Vehicles.csv')"
   ]
  },
  {
   "cell_type": "code",
   "execution_count": 3,
   "metadata": {
    "collapsed": false
   },
   "outputs": [
    {
     "data": {
      "text/html": [
       "<div>\n",
       "<table border=\"1\" class=\"dataframe\">\n",
       "  <thead>\n",
       "    <tr style=\"text-align: right;\">\n",
       "      <th></th>\n",
       "      <th>Inventory Number</th>\n",
       "    </tr>\n",
       "  </thead>\n",
       "  <tbody>\n",
       "    <tr>\n",
       "      <th>count</th>\n",
       "      <td>6.002000e+03</td>\n",
       "    </tr>\n",
       "    <tr>\n",
       "      <th>mean</th>\n",
       "      <td>4.529735e+06</td>\n",
       "    </tr>\n",
       "    <tr>\n",
       "      <th>std</th>\n",
       "      <td>2.144416e+06</td>\n",
       "    </tr>\n",
       "    <tr>\n",
       "      <th>min</th>\n",
       "      <td>6.870000e+02</td>\n",
       "    </tr>\n",
       "    <tr>\n",
       "      <th>25%</th>\n",
       "      <td>2.820129e+06</td>\n",
       "    </tr>\n",
       "    <tr>\n",
       "      <th>50%</th>\n",
       "      <td>2.823166e+06</td>\n",
       "    </tr>\n",
       "    <tr>\n",
       "      <th>75%</th>\n",
       "      <td>6.883927e+06</td>\n",
       "    </tr>\n",
       "    <tr>\n",
       "      <th>max</th>\n",
       "      <td>6.887336e+06</td>\n",
       "    </tr>\n",
       "  </tbody>\n",
       "</table>\n",
       "</div>"
      ],
      "text/plain": [
       "       Inventory Number\n",
       "count      6.002000e+03\n",
       "mean       4.529735e+06\n",
       "std        2.144416e+06\n",
       "min        6.870000e+02\n",
       "25%        2.820129e+06\n",
       "50%        2.823166e+06\n",
       "75%        6.883927e+06\n",
       "max        6.887336e+06"
      ]
     },
     "execution_count": 3,
     "metadata": {},
     "output_type": "execute_result"
    }
   ],
   "source": [
    "bike_data.describe()"
   ]
  },
  {
   "cell_type": "code",
   "execution_count": 4,
   "metadata": {
    "collapsed": false
   },
   "outputs": [
    {
     "data": {
      "text/plain": [
       "Index(['﻿Tow Date', 'Make', 'Style', 'Model', 'Color', 'Plate', 'State',\n",
       "       'Towed to Address', 'Tow Facility Phone', 'Inventory Number'],\n",
       "      dtype='object')"
      ]
     },
     "execution_count": 4,
     "metadata": {},
     "output_type": "execute_result"
    }
   ],
   "source": [
    "bike_data.columns"
   ]
  },
  {
   "cell_type": "code",
   "execution_count": 5,
   "metadata": {
    "collapsed": false
   },
   "outputs": [
    {
     "data": {
      "text/plain": [
       "0    TOYT\n",
       "1     BMW\n",
       "2    FORD\n",
       "3    MERC\n",
       "4    SUZI\n",
       "Name: Make, dtype: object"
      ]
     },
     "execution_count": 5,
     "metadata": {},
     "output_type": "execute_result"
    }
   ],
   "source": [
    "bike_data['Make'].head()"
   ]
  },
  {
   "cell_type": "code",
   "execution_count": 7,
   "metadata": {
    "collapsed": false
   },
   "outputs": [
    {
     "data": {
      "text/plain": [
       "5997    IL\n",
       "5998    IL\n",
       "5999    IL\n",
       "6000    FL\n",
       "6001    IL\n",
       "Name: State, dtype: object"
      ]
     },
     "execution_count": 7,
     "metadata": {},
     "output_type": "execute_result"
    }
   ],
   "source": [
    "bike_data['State'].tail()"
   ]
  },
  {
   "cell_type": "code",
   "execution_count": 8,
   "metadata": {
    "collapsed": true
   },
   "outputs": [],
   "source": [
    "bike_data_byState = bike_data['State']"
   ]
  },
  {
   "cell_type": "code",
   "execution_count": 9,
   "metadata": {
    "collapsed": false
   },
   "outputs": [
    {
     "data": {
      "text/plain": [
       "pandas.core.series.Series"
      ]
     },
     "execution_count": 9,
     "metadata": {},
     "output_type": "execute_result"
    }
   ],
   "source": [
    "type(bike_data_byState)"
   ]
  },
  {
   "cell_type": "code",
   "execution_count": 19,
   "metadata": {
    "collapsed": false
   },
   "outputs": [
    {
     "data": {
      "text/plain": [
       "IL    5407\n",
       "IN     150\n",
       "WI      77\n",
       "MI      31\n",
       "MN      21\n",
       "Name: State, dtype: int64"
      ]
     },
     "execution_count": 19,
     "metadata": {},
     "output_type": "execute_result"
    }
   ],
   "source": [
    "bike_data_byState.value_counts()[:5]"
   ]
  },
  {
   "cell_type": "markdown",
   "metadata": {},
   "source": [
    "IL has a lot of towed vehicles."
   ]
  },
  {
   "cell_type": "code",
   "execution_count": 21,
   "metadata": {
    "collapsed": true
   },
   "outputs": [],
   "source": [
    "import matplotlib.pyplot as plt\n",
    "%matplotlib inline"
   ]
  },
  {
   "cell_type": "code",
   "execution_count": 22,
   "metadata": {
    "collapsed": false
   },
   "outputs": [
    {
     "data": {
      "text/plain": [
       "<matplotlib.axes._subplots.AxesSubplot at 0x947fc50>"
      ]
     },
     "execution_count": 22,
     "metadata": {},
     "output_type": "execute_result"
    },
    {
     "data": {
      "image/png": "[encoded data removed]",
      "text/plain": [
       "<matplotlib.figure.Figure at 0x94cc8d0>"
      ]
     },
     "metadata": {},
     "output_type": "display_data"
    }
   ],
   "source": [
    "bike_data_byState.value_counts().plot()"
   ]
  },
  {
   "cell_type": "code",
   "execution_count": 30,
   "metadata": {
    "collapsed": false
   },
   "outputs": [
    {
     "data": {
      "text/plain": [
       "<matplotlib.axes._subplots.AxesSubplot at 0xb6109e8>"
      ]
     },
     "execution_count": 30,
     "metadata": {},
     "output_type": "execute_result"
    },
    {
     "data": {
      "image/png": "[encoded data removed]",
      "text/plain": [
       "<matplotlib.figure.Figure at 0xb622fd0>"
      ]
     },
     "metadata": {},
     "output_type": "display_data"
    }
   ],
   "source": [
    "bike_data['﻿Tow Date'].value_counts().plot()"
   ]
  },
  {
   "cell_type": "code",
   "execution_count": 31,
   "metadata": {
    "collapsed": false
   },
   "outputs": [
    {
     "data": {
      "text/plain": [
       "03/11/2017    197\n",
       "05/27/2017    158\n",
       "05/26/2017    151\n",
       "05/28/2017    139\n",
       "05/25/2017    136\n",
       "05/24/2017    131\n",
       "05/30/2017    121\n",
       "05/11/2017    107\n",
       "05/12/2017    106\n",
       "03/05/2017    105\n",
       "03/10/2017    103\n",
       "05/29/2017    102\n",
       "05/17/2017     99\n",
       "05/03/2017     99\n",
       "05/10/2017     97\n",
       "03/04/2017     97\n",
       "05/20/2017     95\n",
       "05/19/2017     95\n",
       "05/06/2017     92\n",
       "05/05/2017     90\n",
       "05/23/2017     87\n",
       "05/31/2017     85\n",
       "03/23/2017     84\n",
       "05/18/2017     83\n",
       "05/21/2017     82\n",
       "05/04/2017     82\n",
       "05/09/2017     82\n",
       "05/13/2017     80\n",
       "05/02/2017     76\n",
       "04/29/2017     72\n",
       "             ... \n",
       "04/07/2017     48\n",
       "03/25/2017     47\n",
       "04/04/2017     47\n",
       "03/31/2017     46\n",
       "04/30/2017     46\n",
       "03/18/2017     46\n",
       "04/12/2017     45\n",
       "04/18/2017     44\n",
       "04/09/2017     44\n",
       "03/17/2017     43\n",
       "03/19/2017     43\n",
       "04/27/2017     42\n",
       "03/12/2017     41\n",
       "04/03/2017     40\n",
       "04/05/2017     38\n",
       "04/13/2017     37\n",
       "04/25/2017     37\n",
       "03/15/2017     36\n",
       "03/24/2017     35\n",
       "04/11/2017     35\n",
       "03/20/2017     34\n",
       "03/06/2017     34\n",
       "03/26/2017     32\n",
       "03/27/2017     32\n",
       "04/16/2017     28\n",
       "03/16/2017     25\n",
       "04/02/2017     21\n",
       "03/14/2017     18\n",
       "03/02/2017     16\n",
       "03/13/2017     15\n",
       "Name: ﻿Tow Date, dtype: int64"
      ]
     },
     "execution_count": 31,
     "metadata": {},
     "output_type": "execute_result"
    }
   ],
   "source": [
    "bike_data['﻿Tow Date'].value_counts()"
   ]
  },
  {
   "cell_type": "markdown",
   "metadata": {},
   "source": [
    "In March, the number of tows are maximum. Is it because of Spring in IL after a long winter?"
   ]
  },
  {
   "cell_type": "code",
   "execution_count": null,
   "metadata": {
    "collapsed": true
   },
   "outputs": [],
   "source": []
  }
 ],
 "metadata": {
  "kernelspec": {
   "display_name": "Python 3",
   "language": "python",
   "name": "python3"
  },
  "language_info": {
   "codemirror_mode": {
    "name": "ipython",
    "version": 3
   },
   "file_extension": ".py",
   "mimetype": "text/x-python",
   "name": "python",
   "nbconvert_exporter": "python",
   "pygments_lexer": "ipython3",
   "version": "3.5.1"
  }
 },
 "nbformat": 4,
 "nbformat_minor": 0
}
