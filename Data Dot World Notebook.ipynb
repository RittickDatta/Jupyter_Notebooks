{
 "cells": [
  {
   "cell_type": "code",
   "execution_count": 1,
   "metadata": {
    "collapsed": true
   },
   "outputs": [],
   "source": [
    "import datadotworld as dw"
   ]
  },
  {
   "cell_type": "code",
   "execution_count": 6,
   "metadata": {
    "collapsed": false
   },
   "outputs": [],
   "source": [
    "lds = dw.load_dataset('data-society/the-simpsons-by-the-data')"
   ]
  },
  {
   "cell_type": "code",
   "execution_count": 7,
   "metadata": {
    "collapsed": false
   },
   "outputs": [
    {
     "data": {
      "text/plain": [
       "{'description': 'Contains the characters, locations, episode details, and script lines for approximately 600 Simpsons episodes.\\n\\nOriginally, this dataset was scraped by Tod Schenider for his post [The Simpsons by the Data](http://toddwschneider.com/posts/the-simpsons-by-the-data/), for which he made the scraper [available on GitHub](https://github.com/toddwschneider/flim-springfield). [Kaggle user William Cukierski used the scraper to upload the data set](https://www.kaggle.com/wcukierski/the-simpsons-by-the-data), which has been rehosted here.\\n\\nAn additional column, `chalkboard_gag`, has been added to the `simpsons_episodes.csv` file, scraped from [Simpsons Wiki](http://simpsons.wikia.com/wiki/List_of_chalkboard_gags).',\n",
       " 'homepage': 'https://data.world/data-society/the-simpsons-by-the-data',\n",
       " 'keywords': ['data society',\n",
       "  'simpsons',\n",
       "  'text mining',\n",
       "  'characters',\n",
       "  'script lines',\n",
       "  'regression',\n",
       "  'classification'],\n",
       " 'name': 'data-society_the-simpsons-by-the-data',\n",
       " 'resources': [{'format': 'csv',\n",
       "   'name': 'simpsons_characters',\n",
       "   'path': 'data/simpsons_characters.csv'},\n",
       "  {'format': 'csv',\n",
       "   'name': 'simpsons_episodes',\n",
       "   'path': 'data/simpsons_episodes.csv'},\n",
       "  {'format': 'csv',\n",
       "   'name': 'simpsons_locations',\n",
       "   'path': 'data/simpsons_locations.csv'},\n",
       "  {'format': 'csv',\n",
       "   'name': 'simpsons_script_lines',\n",
       "   'path': 'data/simpsons_script_lines.csv'},\n",
       "  {'bytes': 214869,\n",
       "   'format': 'csv',\n",
       "   'mediatype': 'text/csv',\n",
       "   'name': 'original/simpsons_characters.csv',\n",
       "   'path': 'original/simpsons_characters.csv'},\n",
       "  {'bytes': 125398,\n",
       "   'format': 'csv',\n",
       "   'mediatype': 'text/csv',\n",
       "   'name': 'original/simpsons_episodes.csv',\n",
       "   'path': 'original/simpsons_episodes.csv'},\n",
       "  {'bytes': 178199,\n",
       "   'format': 'csv',\n",
       "   'mediatype': 'text/csv',\n",
       "   'name': 'original/simpsons_locations.csv',\n",
       "   'path': 'original/simpsons_locations.csv'},\n",
       "  {'bytes': 35185146,\n",
       "   'format': 'csv',\n",
       "   'mediatype': 'text/csv',\n",
       "   'name': 'original/simpsons_script_lines.csv',\n",
       "   'path': 'original/simpsons_script_lines.csv'}],\n",
       " 'title': 'The Simpsons by the Data'}"
      ]
     },
     "execution_count": 7,
     "metadata": {},
     "output_type": "execute_result"
    }
   ],
   "source": [
    "lds.describe()"
   ]
  },
  {
   "cell_type": "code",
   "execution_count": 9,
   "metadata": {
    "collapsed": true
   },
   "outputs": [],
   "source": [
    "import pprint\n",
    "pp = pprint.PrettyPrinter(indent=4)"
   ]
  },
  {
   "cell_type": "code",
   "execution_count": 10,
   "metadata": {
    "collapsed": false
   },
   "outputs": [
    {
     "name": "stdout",
     "output_type": "stream",
     "text": [
      "{   'description': 'Contains the characters, locations, episode details, and '\n",
      "                   'script lines for approximately 600 Simpsons episodes.\\n'\n",
      "                   '\\n'\n",
      "                   'Originally, this dataset was scraped by Tod Schenider for '\n",
      "                   'his post [The Simpsons by the '\n",
      "                   'Data](http://toddwschneider.com/posts/the-simpsons-by-the-data/), '\n",
      "                   'for which he made the scraper [available on '\n",
      "                   'GitHub](https://github.com/toddwschneider/flim-springfield). '\n",
      "                   '[Kaggle user William Cukierski used the scraper to upload '\n",
      "                   'the data '\n",
      "                   'set](https://www.kaggle.com/wcukierski/the-simpsons-by-the-data), '\n",
      "                   'which has been rehosted here.\\n'\n",
      "                   '\\n'\n",
      "                   'An additional column, `chalkboard_gag`, has been added to '\n",
      "                   'the `simpsons_episodes.csv` file, scraped from [Simpsons '\n",
      "                   'Wiki](http://simpsons.wikia.com/wiki/List_of_chalkboard_gags).',\n",
      "    'homepage': 'https://data.world/data-society/the-simpsons-by-the-data',\n",
      "    'keywords': [   'data society',\n",
      "                    'simpsons',\n",
      "                    'text mining',\n",
      "                    'characters',\n",
      "                    'script lines',\n",
      "                    'regression',\n",
      "                    'classification'],\n",
      "    'name': 'data-society_the-simpsons-by-the-data',\n",
      "    'resources': [   {   'format': 'csv',\n",
      "                         'name': 'simpsons_characters',\n",
      "                         'path': 'data/simpsons_characters.csv'},\n",
      "                     {   'format': 'csv',\n",
      "                         'name': 'simpsons_episodes',\n",
      "                         'path': 'data/simpsons_episodes.csv'},\n",
      "                     {   'format': 'csv',\n",
      "                         'name': 'simpsons_locations',\n",
      "                         'path': 'data/simpsons_locations.csv'},\n",
      "                     {   'format': 'csv',\n",
      "                         'name': 'simpsons_script_lines',\n",
      "                         'path': 'data/simpsons_script_lines.csv'},\n",
      "                     {   'bytes': 214869,\n",
      "                         'format': 'csv',\n",
      "                         'mediatype': 'text/csv',\n",
      "                         'name': 'original/simpsons_characters.csv',\n",
      "                         'path': 'original/simpsons_characters.csv'},\n",
      "                     {   'bytes': 125398,\n",
      "                         'format': 'csv',\n",
      "                         'mediatype': 'text/csv',\n",
      "                         'name': 'original/simpsons_episodes.csv',\n",
      "                         'path': 'original/simpsons_episodes.csv'},\n",
      "                     {   'bytes': 178199,\n",
      "                         'format': 'csv',\n",
      "                         'mediatype': 'text/csv',\n",
      "                         'name': 'original/simpsons_locations.csv',\n",
      "                         'path': 'original/simpsons_locations.csv'},\n",
      "                     {   'bytes': 35185146,\n",
      "                         'format': 'csv',\n",
      "                         'mediatype': 'text/csv',\n",
      "                         'name': 'original/simpsons_script_lines.csv',\n",
      "                         'path': 'original/simpsons_script_lines.csv'}],\n",
      "    'title': 'The Simpsons by the Data'}\n"
     ]
    }
   ],
   "source": [
    "pp.pprint(lds.describe())"
   ]
  },
  {
   "cell_type": "code",
   "execution_count": 11,
   "metadata": {
    "collapsed": false
   },
   "outputs": [
    {
     "name": "stdout",
     "output_type": "stream",
     "text": [
      "{'simpsons_episodes': LazyLoadedValue(<pandas.DataFrame>), 'simpsons_script_lines': LazyLoadedValue(<pandas.DataFrame>), 'simpsons_locations': LazyLoadedValue(<pandas.DataFrame>), 'simpsons_characters': LazyLoadedValue(<pandas.DataFrame>)} \n",
      "\n",
      "{'simpsons_episodes': LazyLoadedValue(<list of rows>), 'simpsons_script_lines': LazyLoadedValue(<list of rows>), 'simpsons_locations': LazyLoadedValue(<list of rows>), 'simpsons_characters': LazyLoadedValue(<list of rows>)} \n",
      "\n",
      "{'simpsons_episodes': LazyLoadedValue(<bytes>), 'original/simpsons_episodes.csv': LazyLoadedValue(<bytes>), 'original/simpsons_script_lines.csv': LazyLoadedValue(<bytes>), 'simpsons_script_lines': LazyLoadedValue(<bytes>), 'simpsons_locations': LazyLoadedValue(<bytes>), 'simpsons_characters': LazyLoadedValue(<bytes>), 'original/simpsons_locations.csv': LazyLoadedValue(<bytes>), 'original/simpsons_characters.csv': LazyLoadedValue(<bytes>)} \n",
      "\n"
     ]
    }
   ],
   "source": [
    "for i in [lds.dataframes, lds.tables, lds.raw_data]:\n",
    "    print(i,'\\n')"
   ]
  },
  {
   "cell_type": "code",
   "execution_count": 12,
   "metadata": {
    "collapsed": true
   },
   "outputs": [],
   "source": [
    "simpsons_eps = lds.dataframes['simpsons_episodes']"
   ]
  },
  {
   "cell_type": "code",
   "execution_count": 13,
   "metadata": {
    "collapsed": false
   },
   "outputs": [
    {
     "name": "stdout",
     "output_type": "stream",
     "text": [
      "<class 'pandas.core.frame.DataFrame'>\n",
      "RangeIndex: 600 entries, 0 to 599\n",
      "Data columns (total 14 columns):\n",
      "id                        600 non-null int64\n",
      "image_url                 596 non-null object\n",
      "imdb_rating               597 non-null float64\n",
      "imdb_votes                597 non-null float64\n",
      "number_in_season          600 non-null int64\n",
      "number_in_series          600 non-null int64\n",
      "original_air_date         600 non-null datetime64[ns]\n",
      "original_air_year         600 non-null int64\n",
      "production_code           600 non-null object\n",
      "season                    600 non-null int64\n",
      "title                     600 non-null object\n",
      "us_viewers_in_millions    594 non-null float64\n",
      "video_url                 596 non-null object\n",
      "views                     596 non-null float64\n",
      "dtypes: datetime64[ns](1), float64(4), int64(5), object(4)\n",
      "memory usage: 65.7+ KB\n",
      "None\n"
     ]
    }
   ],
   "source": [
    "print(simpsons_eps.info())"
   ]
  },
  {
   "cell_type": "code",
   "execution_count": 14,
   "metadata": {
    "collapsed": false
   },
   "outputs": [
    {
     "data": {
      "text/html": [
       "<div>\n",
       "<table border=\"1\" class=\"dataframe\">\n",
       "  <thead>\n",
       "    <tr style=\"text-align: right;\">\n",
       "      <th></th>\n",
       "      <th>id</th>\n",
       "      <th>image_url</th>\n",
       "      <th>imdb_rating</th>\n",
       "      <th>imdb_votes</th>\n",
       "      <th>number_in_season</th>\n",
       "      <th>number_in_series</th>\n",
       "      <th>original_air_date</th>\n",
       "      <th>original_air_year</th>\n",
       "      <th>production_code</th>\n",
       "      <th>season</th>\n",
       "      <th>title</th>\n",
       "      <th>us_viewers_in_millions</th>\n",
       "      <th>video_url</th>\n",
       "      <th>views</th>\n",
       "    </tr>\n",
       "  </thead>\n",
       "  <tbody>\n",
       "    <tr>\n",
       "      <th>0</th>\n",
       "      <td>10</td>\n",
       "      <td>http://static-media.fxx.com/img/FX_Networks_-_...</td>\n",
       "      <td>7.4</td>\n",
       "      <td>1511.0</td>\n",
       "      <td>10</td>\n",
       "      <td>10</td>\n",
       "      <td>1990-03-25</td>\n",
       "      <td>1990</td>\n",
       "      <td>7G10</td>\n",
       "      <td>1</td>\n",
       "      <td>Homer's Night Out</td>\n",
       "      <td>30.3</td>\n",
       "      <td>http://www.simpsonsworld.com/video/275197507879</td>\n",
       "      <td>50816.0</td>\n",
       "    </tr>\n",
       "    <tr>\n",
       "      <th>1</th>\n",
       "      <td>12</td>\n",
       "      <td>http://static-media.fxx.com/img/FX_Networks_-_...</td>\n",
       "      <td>8.3</td>\n",
       "      <td>1716.0</td>\n",
       "      <td>12</td>\n",
       "      <td>12</td>\n",
       "      <td>1990-04-29</td>\n",
       "      <td>1990</td>\n",
       "      <td>7G12</td>\n",
       "      <td>1</td>\n",
       "      <td>Krusty Gets Busted</td>\n",
       "      <td>30.4</td>\n",
       "      <td>http://www.simpsonsworld.com/video/288019523914</td>\n",
       "      <td>62561.0</td>\n",
       "    </tr>\n",
       "    <tr>\n",
       "      <th>2</th>\n",
       "      <td>14</td>\n",
       "      <td>http://static-media.fxx.com/img/FX_Networks_-_...</td>\n",
       "      <td>8.2</td>\n",
       "      <td>1638.0</td>\n",
       "      <td>1</td>\n",
       "      <td>14</td>\n",
       "      <td>1990-10-11</td>\n",
       "      <td>1990</td>\n",
       "      <td>7F03</td>\n",
       "      <td>2</td>\n",
       "      <td>Bart Gets an \"F\"</td>\n",
       "      <td>33.6</td>\n",
       "      <td>http://www.simpsonsworld.com/video/260539459671</td>\n",
       "      <td>59575.0</td>\n",
       "    </tr>\n",
       "    <tr>\n",
       "      <th>3</th>\n",
       "      <td>17</td>\n",
       "      <td>http://static-media.fxx.com/img/FX_Networks_-_...</td>\n",
       "      <td>8.1</td>\n",
       "      <td>1457.0</td>\n",
       "      <td>4</td>\n",
       "      <td>17</td>\n",
       "      <td>1990-11-01</td>\n",
       "      <td>1990</td>\n",
       "      <td>7F01</td>\n",
       "      <td>2</td>\n",
       "      <td>Two Cars in Every Garage and Three Eyes on Eve...</td>\n",
       "      <td>26.1</td>\n",
       "      <td>http://www.simpsonsworld.com/video/260537411822</td>\n",
       "      <td>64959.0</td>\n",
       "    </tr>\n",
       "    <tr>\n",
       "      <th>4</th>\n",
       "      <td>19</td>\n",
       "      <td>http://static-media.fxx.com/img/FX_Networks_-_...</td>\n",
       "      <td>8.0</td>\n",
       "      <td>1366.0</td>\n",
       "      <td>6</td>\n",
       "      <td>19</td>\n",
       "      <td>1990-11-15</td>\n",
       "      <td>1990</td>\n",
       "      <td>7F08</td>\n",
       "      <td>2</td>\n",
       "      <td>Dead Putting Society</td>\n",
       "      <td>25.4</td>\n",
       "      <td>http://www.simpsonsworld.com/video/260539459670</td>\n",
       "      <td>50691.0</td>\n",
       "    </tr>\n",
       "  </tbody>\n",
       "</table>\n",
       "</div>"
      ],
      "text/plain": [
       "   id                                          image_url  imdb_rating  \\\n",
       "0  10  http://static-media.fxx.com/img/FX_Networks_-_...          7.4   \n",
       "1  12  http://static-media.fxx.com/img/FX_Networks_-_...          8.3   \n",
       "2  14  http://static-media.fxx.com/img/FX_Networks_-_...          8.2   \n",
       "3  17  http://static-media.fxx.com/img/FX_Networks_-_...          8.1   \n",
       "4  19  http://static-media.fxx.com/img/FX_Networks_-_...          8.0   \n",
       "\n",
       "   imdb_votes  number_in_season  number_in_series original_air_date  \\\n",
       "0      1511.0                10                10        1990-03-25   \n",
       "1      1716.0                12                12        1990-04-29   \n",
       "2      1638.0                 1                14        1990-10-11   \n",
       "3      1457.0                 4                17        1990-11-01   \n",
       "4      1366.0                 6                19        1990-11-15   \n",
       "\n",
       "   original_air_year production_code  season  \\\n",
       "0               1990            7G10       1   \n",
       "1               1990            7G12       1   \n",
       "2               1990            7F03       2   \n",
       "3               1990            7F01       2   \n",
       "4               1990            7F08       2   \n",
       "\n",
       "                                               title  us_viewers_in_millions  \\\n",
       "0                                  Homer's Night Out                    30.3   \n",
       "1                                 Krusty Gets Busted                    30.4   \n",
       "2                                   Bart Gets an \"F\"                    33.6   \n",
       "3  Two Cars in Every Garage and Three Eyes on Eve...                    26.1   \n",
       "4                               Dead Putting Society                    25.4   \n",
       "\n",
       "                                         video_url    views  \n",
       "0  http://www.simpsonsworld.com/video/275197507879  50816.0  \n",
       "1  http://www.simpsonsworld.com/video/288019523914  62561.0  \n",
       "2  http://www.simpsonsworld.com/video/260539459671  59575.0  \n",
       "3  http://www.simpsonsworld.com/video/260537411822  64959.0  \n",
       "4  http://www.simpsonsworld.com/video/260539459670  50691.0  "
      ]
     },
     "execution_count": 14,
     "metadata": {},
     "output_type": "execute_result"
    }
   ],
   "source": [
    "simpsons_eps.head()"
   ]
  },
  {
   "cell_type": "code",
   "execution_count": 15,
   "metadata": {
    "collapsed": true
   },
   "outputs": [],
   "source": [
    "import matplotlib.pyplot as plt"
   ]
  },
  {
   "cell_type": "code",
   "execution_count": 16,
   "metadata": {
    "collapsed": true
   },
   "outputs": [],
   "source": [
    "%matplotlib inline"
   ]
  },
  {
   "cell_type": "code",
   "execution_count": 18,
   "metadata": {
    "collapsed": true
   },
   "outputs": [],
   "source": [
    "import pandas as pd"
   ]
  },
  {
   "cell_type": "code",
   "execution_count": 19,
   "metadata": {
    "collapsed": false
   },
   "outputs": [
    {
     "data": {
      "image/png": "[encoded data removed]",
      "text/plain": [
       "<matplotlib.figure.Figure at 0x541e1d0>"
      ]
     },
     "metadata": {},
     "output_type": "display_data"
    }
   ],
   "source": [
    "simpsons_eps['original_air_date'] = pd.to_datetime(simpsons_eps['original_air_date'])\n",
    "simpsons_eps['original_air_year'] = simpsons_eps['original_air_date'].dt.year\n",
    "\n",
    "simpsons_eps.pivot_table(index='original_air_year',values='imdb_rating').plot()\n",
    "plt.show()"
   ]
  },
  {
   "cell_type": "markdown",
   "metadata": {},
   "source": [
    "https://www.dataquest.io/blog/datadotworld-python-tutorial/"
   ]
  },
  {
   "cell_type": "code",
   "execution_count": null,
   "metadata": {
    "collapsed": true
   },
   "outputs": [],
   "source": []
  }
 ],
 "metadata": {
  "kernelspec": {
   "display_name": "Python 3",
   "language": "python",
   "name": "python3"
  },
  "language_info": {
   "codemirror_mode": {
    "name": "ipython",
    "version": 3
   },
   "file_extension": ".py",
   "mimetype": "text/x-python",
   "name": "python",
   "nbconvert_exporter": "python",
   "pygments_lexer": "ipython3",
   "version": "3.5.1"
  }
 },
 "nbformat": 4,
 "nbformat_minor": 0
}
