{
 "cells": [
  {
   "cell_type": "code",
   "execution_count": 1,
   "metadata": {
    "collapsed": true
   },
   "outputs": [],
   "source": [
    "def square(n):\n",
    "    return n ** 2"
   ]
  },
  {
   "cell_type": "code",
   "execution_count": 2,
   "metadata": {
    "collapsed": false
   },
   "outputs": [
    {
     "data": {
      "text/plain": [
       "4"
      ]
     },
     "execution_count": 2,
     "metadata": {},
     "output_type": "execute_result"
    }
   ],
   "source": [
    "square(2)"
   ]
  },
  {
   "cell_type": "code",
   "execution_count": 13,
   "metadata": {
    "collapsed": true
   },
   "outputs": [],
   "source": [
    "def fullName(firstName, lastName):\n",
    "    return firstName +' '+ lastName"
   ]
  },
  {
   "cell_type": "code",
   "execution_count": 14,
   "metadata": {
    "collapsed": false
   },
   "outputs": [
    {
     "data": {
      "text/plain": [
       "'Rittick Datta'"
      ]
     },
     "execution_count": 14,
     "metadata": {},
     "output_type": "execute_result"
    }
   ],
   "source": [
    "fullName('Rittick', 'Datta')"
   ]
  },
  {
   "cell_type": "code",
   "execution_count": 46,
   "metadata": {
    "collapsed": true
   },
   "outputs": [],
   "source": [
    "def lowercaseText(filename):\n",
    "    f = open(filename, 'r')\n",
    "    sentence = f.readline()\n",
    "    print(sentence)\n",
    "    sentence = sentence.lower()\n",
    "    print(sentence)\n",
    "    f.close()"
   ]
  },
  {
   "cell_type": "code",
   "execution_count": 47,
   "metadata": {
    "collapsed": false
   },
   "outputs": [
    {
     "name": "stdout",
     "output_type": "stream",
     "text": [
      "this is a SAMPLE text file\n",
      "this is a sample text file\n"
     ]
    }
   ],
   "source": [
    "lowercaseText('Sample.txt')"
   ]
  },
  {
   "cell_type": "code",
   "execution_count": 51,
   "metadata": {
    "collapsed": true
   },
   "outputs": [],
   "source": [
    "def textFileProoperties(filename):\n",
    "    f = open(filename, 'r')\n",
    "    allLines = f.readlines()\n",
    "    print(allLines)\n",
    "    allLines = [line.strip() for line in allLines]\n",
    "    print(allLines)"
   ]
  },
  {
   "cell_type": "code",
   "execution_count": 52,
   "metadata": {
    "collapsed": false
   },
   "outputs": [
    {
     "name": "stdout",
     "output_type": "stream",
     "text": [
      "['this is a SAMPLE text file\\n', 'this is second line in file\\n', 'this is third line in file']\n",
      "['this is a SAMPLE text file', 'this is second line in file', 'this is third line in file']\n"
     ]
    }
   ],
   "source": [
    "textFileProoperties('Sample.txt')"
   ]
  },
  {
   "cell_type": "code",
   "execution_count": 4,
   "metadata": {
    "collapsed": true
   },
   "outputs": [],
   "source": [
    "def listAllFiles(path):\n",
    "    import os\n",
    "    print(os.listdir(path)"
   ]
  },
  {
   "cell_type": "code",
   "execution_count": 13,
   "metadata": {
    "collapsed": false
   },
   "outputs": [
    {
     "name": "stdout",
     "output_type": "stream",
     "text": [
      "['$Recycle.Bin', '.superId', '14ade1bc84339e7d1927b264a3', '4f671d0c820156c08ba606636b1ff7d7', '542b653f424be8ea2ff53805dc', 'data', 'Dell', 'Documents and Settings', 'e4e02b836e376a7f4eada53a2e', 'HaxLogs.txt', 'hiberfil.sys', 'installLog.txt', 'Intel', 'MSOCache', 'pagefile.sys', 'PerfLogs', 'Program Files', 'Program Files (x86)', 'ProgramData', 'Python34', 'Recovery', 'System Volume Information', 'Temp', 'tmp', 'Users', 'wamp', 'Windows', 'xampp']\n"
     ]
    }
   ],
   "source": [
    "listAllFiles(\"/\")"
   ]
  },
  {
   "cell_type": "code",
   "execution_count": 19,
   "metadata": {
    "collapsed": false
   },
   "outputs": [],
   "source": [
    "myFiles = os.listdir(\"/\")"
   ]
  },
  {
   "cell_type": "code",
   "execution_count": 21,
   "metadata": {
    "collapsed": true
   },
   "outputs": [],
   "source": [
    "def numberOfSentences(fileName):\n",
    "    f = open(fileName, 'r')\n",
    "    allLines = f.readlines()\n",
    "    print(len(allLines))"
   ]
  },
  {
   "cell_type": "code",
   "execution_count": 22,
   "metadata": {
    "collapsed": false
   },
   "outputs": [
    {
     "name": "stdout",
     "output_type": "stream",
     "text": [
      "3\n"
     ]
    }
   ],
   "source": [
    "numberOfSentences('Sample.txt')"
   ]
  },
  {
   "cell_type": "code",
   "execution_count": 33,
   "metadata": {
    "collapsed": true
   },
   "outputs": [],
   "source": [
    "def lengthOfSentences(fileName):\n",
    "    f =open(fileName, 'r')\n",
    "    allLines = f.readlines()\n",
    "    i = 0\n",
    "    for line in allLines:\n",
    "        print(len(line))"
   ]
  },
  {
   "cell_type": "code",
   "execution_count": 34,
   "metadata": {
    "collapsed": false
   },
   "outputs": [
    {
     "name": "stdout",
     "output_type": "stream",
     "text": [
      "27\n",
      "28\n",
      "26\n"
     ]
    }
   ],
   "source": [
    "lengthOfSentences('Sample.txt')"
   ]
  },
  {
   "cell_type": "code",
   "execution_count": null,
   "metadata": {
    "collapsed": true
   },
   "outputs": [],
   "source": []
  }
 ],
 "metadata": {
  "kernelspec": {
   "display_name": "Python 3",
   "language": "python",
   "name": "python3"
  },
  "language_info": {
   "codemirror_mode": {
    "name": "ipython",
    "version": 3
   },
   "file_extension": ".py",
   "mimetype": "text/x-python",
   "name": "python",
   "nbconvert_exporter": "python",
   "pygments_lexer": "ipython3",
   "version": "3.5.1"
  }
 },
 "nbformat": 4,
 "nbformat_minor": 0
}
